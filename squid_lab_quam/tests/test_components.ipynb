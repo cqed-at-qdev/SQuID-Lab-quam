{
 "cells": [
  {
   "cell_type": "code",
   "execution_count": 6,
   "metadata": {},
   "outputs": [
    {
     "name": "stdout",
     "output_type": "stream",
     "text": [
      "C:\\Users\\drn455\\Documents\\GitHub\\SQuID-Lab-quam\n"
     ]
    }
   ],
   "source": [
    "cd \"C:\\Users\\drn455\\Documents\\GitHub\\SQuID-Lab-quam\""
   ]
  },
  {
   "cell_type": "code",
   "execution_count": 7,
   "metadata": {},
   "outputs": [],
   "source": [
    "# cd C:\\Users\\jacob\\OneDrive\\Documents\\GitHub\\SQuID-Lab-quam"
   ]
  },
  {
   "cell_type": "code",
   "execution_count": 8,
   "metadata": {},
   "outputs": [],
   "source": [
    "# cd C:\\Users\\MESO 1\\Documents\\GitHub\\SQuID-Lab-quam"
   ]
  },
  {
   "cell_type": "code",
   "execution_count": 9,
   "metadata": {},
   "outputs": [
    {
     "name": "stdout",
     "output_type": "stream",
     "text": [
      "2024-07-11 14:29:17,432 - qm - INFO     - Starting session: 53501d18-b9d2-4c41-9e87-374b0eefcb10\n"
     ]
    }
   ],
   "source": [
    "from squid_lab_quam.components.roots import SQuIDRoot1\n",
    "\n",
    "machine = SQuIDRoot1()"
   ]
  },
  {
   "cell_type": "markdown",
   "metadata": {},
   "source": [
    "## Add information"
   ]
  },
  {
   "cell_type": "code",
   "execution_count": 10,
   "metadata": {},
   "outputs": [
    {
     "name": "stdout",
     "output_type": "stream",
     "text": [
      "information: Information\n",
      "  user_name: \"Jacob Hastrup\"\n",
      "  user_ku_tag: \"drn455\"\n",
      "  device_name: \"QuantWare/soprano_v3\"\n",
      "  fridge_name: \"T5\"\n",
      "  state_path: \"C:/Users/drn455/Documents/GitHub/SQuID-Lab-quam/squid_lab_quam/tests/state\"\n",
      "  data_path: \"#./squid_lab_data_path\"\n",
      "B040001A01\n"
     ]
    }
   ],
   "source": [
    "from squid_lab_quam.components.information import Information\n",
    "\n",
    "information_chalmers = Information(\n",
    "    user_name=\"Jacob Hastrup\",\n",
    "    user_ku_tag=\"drn455\",\n",
    "    device_name=\"Chalmers/5q4c_v1_1\",\n",
    "    fridge_name='meso',\n",
    "    # state_path=r\"C:\\Users\\MESO 1\\Documents\\GitHub\\SQuID-Lab-quam\\squid_lab_quam\\tests\",\n",
    "    # state_path=r\"C:\\Users\\jacob\\OneDrive\\Documents\\GitHub\\SQuID-Lab-quam\\squid_lab_quam\\tests\\state\",\n",
    "    state_path=\"C:/Users/drn455/Documents/GitHub/SQuID-Lab-quam/squid_lab_quam/tests/state\",\n",
    ")\n",
    "\n",
    "information_soprano = Information(\n",
    "    user_name=\"Jacob Hastrup\",\n",
    "    user_ku_tag=\"drn455\",\n",
    "    device_name=\"QuantWare/soprano_v3\",\n",
    "    fridge_name='T5',\n",
    "    # state_path=r\"C:\\Users\\MESO 1\\Documents\\GitHub\\SQuID-Lab-quam\\squid_lab_quam\\tests\",\n",
    "    # state_path=r\"C:\\Users\\jacob\\OneDrive\\Documents\\GitHub\\SQuID-Lab-quam\\squid_lab_quam\\tests\\state\",\n",
    "    state_path=\"C:/Users/drn455/Documents/GitHub/SQuID-Lab-quam/squid_lab_quam/tests/state\",\n",
    ")\n",
    "\n",
    "machine.information = information_soprano\n",
    "machine.information.print_summary()\n",
    "print(machine.information.device_subjectID)"
   ]
  },
  {
   "cell_type": "markdown",
   "metadata": {},
   "source": [
    "## Add network"
   ]
  },
  {
   "cell_type": "code",
   "execution_count": 11,
   "metadata": {},
   "outputs": [],
   "source": [
    "from squid_lab_quam.components.network import OPXNetwork, OctaveNetwork\n",
    "\n",
    "network_meso = OPXNetwork(\n",
    "    host=\"10.209.67.168\",\n",
    "    cluster_name=\"Cluster_1\",\n",
    "    octave_networks={\n",
    "        \"octave1\": OctaveNetwork(\n",
    "            octave_host=\"10.209.67.174\", octave_port=80, controller=\"con1\"\n",
    "        )\n",
    "    },\n",
    ")\n",
    "\n",
    "network_t5 = OPXNetwork(\n",
    "        host= \"10.209.96.1\",\n",
    "        cluster_name= \"Cluster_1\",\n",
    "        octave_networks ={\n",
    "            \"octave1\": OctaveNetwork(\n",
    "                octave_host=   \"10.209.96.11\",\n",
    "                octave_port= 80,\n",
    "                controller= \"con1\"\n",
    "            )\n",
    "        }\n",
    ")\n",
    "\n",
    "machine.network = network_t5"
   ]
  },
  {
   "cell_type": "markdown",
   "metadata": {},
   "source": [
    "## Add wiring"
   ]
  },
  {
   "cell_type": "code",
   "execution_count": 12,
   "metadata": {},
   "outputs": [],
   "source": [
    "from squid_lab_quam.components.wiring import (\n",
    "    OPXWiring,\n",
    "    OPXFeedLineWiring,\n",
    "    OPXIQChannelWiring,\n",
    ")\n",
    "\n",
    "wiring = OPXWiring(\n",
    "    drive_lines={\n",
    "        \"q0\": OPXIQChannelWiring(\n",
    "            port_I=(\"con1\", 3),\n",
    "            port_Q=(\"con1\", 4),\n",
    "        ),\n",
    "        \"q1\": OPXIQChannelWiring(\n",
    "            port_I=(\"con1\", 5),\n",
    "            port_Q=(\"con1\", 6),\n",
    "        ),\n",
    "        \"q2\": OPXIQChannelWiring(\n",
    "            port_I=(\"con1\", 7),\n",
    "            port_Q=(\"con1\", 8),\n",
    "        ),\n",
    "        \"q3\": OPXIQChannelWiring(\n",
    "            port_I=(\"con1\", 9),\n",
    "            port_Q=(\"con1\", 10),\n",
    "        ),\n",
    "        \"q4\": OPXIQChannelWiring(\n",
    "            port_I=(\"con1\", 9),\n",
    "            port_Q=(\"con1\", 10),\n",
    "        ),\n",
    "    },\n",
    "    feed_lines={\n",
    "        \"feedline\": OPXFeedLineWiring(\n",
    "            output_I=(\"con1\", 1),\n",
    "            output_Q=(\"con1\", 2),\n",
    "            input_I=(\"con1\", 1),\n",
    "            input_Q=(\"con1\", 2),\n",
    "        )\n",
    "    },\n",
    ")\n",
    "\n",
    "machine.wiring = wiring"
   ]
  },
  {
   "cell_type": "markdown",
   "metadata": {},
   "source": [
    "## Add octaves"
   ]
  },
  {
   "cell_type": "code",
   "execution_count": 13,
   "metadata": {},
   "outputs": [],
   "source": [
    "from squid_lab_quam.components.octave import OctaveSQuID\n",
    "\n",
    "octaves = {\n",
    "    \"octave1\": OctaveSQuID(\n",
    "        ip=machine.network.octave_networks[\"octave1\"].get_reference(\"octave_host\"),\n",
    "        port=machine.network.octave_networks[\"octave1\"].get_reference(\"octave_port\"),\n",
    "    )\n",
    "}\n",
    "machine.octaves = octaves"
   ]
  },
  {
   "cell_type": "markdown",
   "metadata": {},
   "source": [
    "## Add readout frequency converters"
   ]
  },
  {
   "cell_type": "code",
   "execution_count": 14,
   "metadata": {},
   "outputs": [],
   "source": [
    "from squid_lab_quam.components.octave import (\n",
    "    OctaveUpConverterSQuID,\n",
    "    OctaveDownConverterSQuID,\n",
    ")\n",
    "\n",
    "readout_up_converter = OctaveUpConverterSQuID(LO_frequency=5e9)\n",
    "octaves[\"octave1\"].RF_outputs[machine.wiring.feed_lines['feedline'].default_octave_port_out()] = readout_up_converter\n",
    "\n",
    "readout_down_converter = OctaveDownConverterSQuID(\n",
    "    LO_frequency=readout_up_converter.get_reference(\"LO_frequency\"),\n",
    ")\n",
    "octaves[\"octave1\"].RF_inputs[1] = readout_down_converter"
   ]
  },
  {
   "cell_type": "markdown",
   "metadata": {},
   "source": [
    "## Add qubits"
   ]
  },
  {
   "cell_type": "code",
   "execution_count": 15,
   "metadata": {},
   "outputs": [],
   "source": [
    "from squid_lab_quam.components.qubits import ScQubit\n",
    "from squid_lab_quam.components.resonators import ReadoutResonator\n",
    "from quam.components.channels import IQChannel, InOutIQChannel\n",
    "from squid_lab_quam.components.pulse_sets import PulseSetDragGaussian, PulseSetFlattopCosine\n",
    "from quam.components.pulses import SquareReadoutPulse\n",
    "\n",
    "qubit_names = [\"q0\", \"q1\", \"q2\", \"q3\"]\n",
    "\n",
    "machine.shared_qubit_parameters = {\n",
    "    \"drag_gaussian_pulse_parameters\": {\"length\": 40, \"sigma\": 7, \"subtracted\": True},\n",
    "}\n",
    "\n",
    "\n",
    "for idx, qubit_name in enumerate(qubit_names):\n",
    "    # Add driving frequency converter\n",
    "    drive_up_converter = OctaveUpConverterSQuID(LO_frequency=5.5e9)\n",
    "    octaves[\"octave1\"].RF_outputs[idx + 2] = drive_up_converter\n",
    "\n",
    "    # Add qubit\n",
    "    qubit = ScQubit(\n",
    "        xy=IQChannel(\n",
    "            opx_output_I=f\"#/wiring/drive_lines/{qubit_name}/port_I\",\n",
    "            opx_output_Q=f\"#/wiring/drive_lines/{qubit_name}/port_Q\",\n",
    "            frequency_converter_up=drive_up_converter.get_reference(),\n",
    "        ),\n",
    "        resonator=ReadoutResonator(\n",
    "            channel=InOutIQChannel(\n",
    "                opx_input_I=f\"#/wiring/feed_lines/feedline/input_I\",\n",
    "                opx_input_Q=f\"#/wiring/feed_lines/feedline/input_Q\",\n",
    "                opx_output_I=f\"#/wiring/feed_lines/feedline/output_I\",\n",
    "                opx_output_Q=f\"#/wiring/feed_lines/feedline/output_Q\",\n",
    "                frequency_converter_up=readout_up_converter.get_reference(),\n",
    "                frequency_converter_down=readout_down_converter.get_reference(),\n",
    "            )\n",
    "        ),\n",
    "        transition_frequencies=[6, 5],\n",
    "    )\n",
    "    qubit.pulse_sets = {\n",
    "        \"drag_gaussian\": PulseSetDragGaussian(\n",
    "            amplitude_180=0.5,\n",
    "            amplitude_90=0.25,\n",
    "            sigma=\"#/shared_qubit_parameters/drag_gaussian_pulse_parameters/sigma\",\n",
    "            length=machine.shared_qubit_parameters[\"drag_gaussian_pulse_parameters\"].get_reference(\"length\"),\n",
    "            subtracted=\"#/shared_qubit_parameters/drag_gaussian_pulse_parameters/subtracted\",\n",
    "            anharmonicity=\"#../../anharmonicity\",\n",
    "        ),\n",
    "        \"flattop_cosine\": PulseSetFlattopCosine(\n",
    "            amplitude=0.1,\n",
    "            rise_fall_time=16,\n",
    "        )\n",
    "    }\n",
    "    \n",
    "    machine.qubits[qubit_name] = qubit\n",
    "    qubit.pulse_sets[\"drag_gaussian\"].add_drive_pulses()\n",
    "    qubit.pulse_sets[\"flattop_cosine\"].add_drive_pulses()\n",
    "\n",
    "    qubit.resonator.channel.operations[\"readout\"] = SquareReadoutPulse(\n",
    "        length=1000, amplitude=0.1, threshold=0.0, digital_marker=\"ON\"\n",
    "    )\n"
   ]
  },
  {
   "cell_type": "markdown",
   "metadata": {},
   "source": []
  },
  {
   "cell_type": "code",
   "execution_count": 17,
   "metadata": {},
   "outputs": [
    {
     "data": {
      "text/plain": [
       "SQuIDRoot1(wiring=OPXWiring(drive_lines={'q0': OPXIQChannelWiring(port_I=('con1', 3), port_Q=('con1', 4)), 'q1': OPXIQChannelWiring(port_I=('con1', 5), port_Q=('con1', 6)), 'q2': OPXIQChannelWiring(port_I=('con1', 7), port_Q=('con1', 8)), 'q3': OPXIQChannelWiring(port_I=('con1', 9), port_Q=('con1', 10)), 'q4': OPXIQChannelWiring(port_I=('con1', 9), port_Q=('con1', 10))}, feed_lines={'feedline': OPXFeedLineWiring(output_I=('con1', 1), output_Q=('con1', 2), input_I=('con1', 1), input_Q=('con1', 2))}, flux_lines={}), network=OPXNetwork(host='10.209.96.1', cluster_name='Cluster_1', octave_networks={'octave1': OctaveNetwork(octave_host='10.209.96.11', octave_port=80, controller='con1')}), information=Information(user_name='Jacob Hastrup', user_ku_tag='drn455', device_name='QuantWare/soprano_v3', fridge_name='T5', state_path='C:/Users/drn455/Documents/GitHub/SQuID-Lab-quam/squid_lab_quam/tests/state', data_path='N:SCI-NBI-QDev\\\\SQuID Lab Data\\\\Devices\\\\QuantWare\\\\soprano_v3\\\\OPX Data'), qubits={'q0': ScQubit(id='q0', xy=IQChannel(operations={'x90_drag_gaussian': DragGaussianPulse(length=40, id=None, digital_marker=None, axis_angle=0, amplitude=0.25, sigma=7, alpha=0, anharmonicity=-1, detuning=0, subtracted=True), 'x180_drag_gaussian': DragGaussianPulse(length=40, id=None, digital_marker=None, axis_angle=0, amplitude=0.5, sigma=7, alpha=0, anharmonicity=-1, detuning=0, subtracted=True), 'y90_drag_gaussian': DragGaussianPulse(length=40, id=None, digital_marker=None, axis_angle=90, amplitude=0.25, sigma=7, alpha=0, anharmonicity=-1, detuning=0, subtracted=True), 'y180_drag_gaussian': DragGaussianPulse(length=40, id=None, digital_marker=None, axis_angle=90, amplitude=0.5, sigma=7, alpha=0, anharmonicity=-1, detuning=0, subtracted=True), '-x90_drag_gaussian': DragGaussianPulse(length=40, id=None, digital_marker=None, axis_angle=0, amplitude=-0.25, sigma=7, alpha=0, anharmonicity=-1, detuning=0, subtracted=True), '-y90_drag_gaussian': DragGaussianPulse(length=40, id=None, digital_marker=None, axis_angle=90, amplitude=-0.25, sigma=7, alpha=0, anharmonicity=-1, detuning=0, subtracted=True), 'rise_flattop_cosine': FlatTopCosinePulse(length=16, id=None, digital_marker=None, amplitude=0.1, axis_angle=None, flat_length=0, return_part='rise'), 'fall_flattop_cosine': FlatTopCosinePulse(length=16, id=None, digital_marker=None, amplitude=-0.1, axis_angle=None, flat_length=0, return_part='rise')}, id=None, digital_outputs={}, opx_output_I=('con1', 3), opx_output_Q=('con1', 4), opx_output_offset_I=None, opx_output_offset_Q=None, frequency_converter_up=OctaveUpConverterSQuID(id='2', channel=None, LO_frequency=5500000000.0, LO_source='internal', gain=0, output_mode='always_on', input_attenuators='off'), intermediate_frequency=0.0, LO_frequency=5500000000.0, RF_frequency=5500000000.0), resonator=ReadoutResonator(channel=InOutIQChannel(operations={'readout': SquareReadoutPulse(length=1000, id=None, digital_marker='ON', amplitude=0.1, axis_angle=None, threshold=0.0, rus_exit_threshold=None, integration_weights=None, integration_weights_angle=0)}, id='q0.resonator', digital_outputs={}, opx_input_I=('con1', 1), opx_input_Q=('con1', 2), time_of_flight=24, smearing=0, opx_input_offset_I=None, opx_input_offset_Q=None, input_gain=None, frequency_converter_down=OctaveDownConverterSQuID(id=1, channel=None, LO_frequency=5000000000.0, LO_source='internal', IF_mode_I='direct', IF_mode_Q='direct', IF_output_I=1, IF_output_Q=2), opx_output_I=('con1', 1), opx_output_Q=('con1', 2), opx_output_offset_I=None, opx_output_offset_Q=None, frequency_converter_up=OctaveUpConverterSQuID(id='1', channel=None, LO_frequency=5000000000.0, LO_source='internal', gain=0, output_mode='always_on', input_attenuators='off'), intermediate_frequency=0.0, LO_frequency=5000000000.0, RF_frequency=5000000000.0), depletion_time=None, depletion_time__metadata=QuamMetadata(unit='ns', long_name='Depletion time', description='The resonator depletion time', last_updated='2024-07-11 14:29:17.579638', uncertainty=None), frequency_bare=None, frequency_bare__metadata=QuamMetadata(unit='Hz', long_name='Bare frequency', description='The bare resonator frequency, i.e., as measured at high power', last_updated='2024-07-11 14:29:17.579638', uncertainty=None), frequency_q0=None, frequency_q0__metadata=QuamMetadata(unit='Hz', long_name='Q0 frequency', description='The dispersively shifted resonator frequency with the qubit in state |0⟩', last_updated='2024-07-11 14:29:17.579638', uncertainty=None), frequency_q1=None, frequency_q1__metadata=QuamMetadata(unit='Hz', long_name='Q1 frequency', description='The dispersively shifted resonator frequency with the qubit in state |1⟩', last_updated='2024-07-11 14:29:17.579638', uncertainty=None), Q_int=None, Q_int__metadata=QuamMetadata(unit=None, long_name='Internal quality factor', description='The internal quality factor of the resonator', last_updated='2024-07-11 14:29:17.579638', uncertainty=None), Q_ext=None, Q_ext__metadata=QuamMetadata(unit=None, long_name='External quality factor', description='The external quality factor of the resonator', last_updated='2024-07-11 14:29:17.579638', uncertainty=None), readout_frequency__metadata=QuamMetadata(unit='Hz', long_name='Readout frequency', description='The readout frequency of the resonator', last_updated='2024-07-11 14:29:17.579638', uncertainty=None)), transition_frequencies=[6, 5], transition_frequencies__metadata=QuamMetadata(unit='Hz', long_name='Transition frequencies', description='Transition frequencies of the qubit in the form [f01, f12, ...]', last_updated='2024-07-11 14:29:17.579638', uncertainty=None), T1=None, T1__metadata=QuamMetadata(unit='s', long_name='T1', description='Qubit decay rate', last_updated='2024-07-11 14:29:17.579638', uncertainty=None), T2ramsey=None, T2ramsey__metadata=QuamMetadata(unit='s', long_name='T2 Ramsey', description='Dephasing time as measured by a Ramsey experiment', last_updated='2024-07-11 14:29:17.579638', uncertainty=None), T2echo=None, T2echo__metadata=QuamMetadata(unit='s', long_name='T2 echo', description='Dephasing time as measured by an echo experiment', last_updated='2024-07-11 14:29:17.579638', uncertainty=None), thermalization_time_factor=5, thermalization_time_factor__metadata=QuamMetadata(unit='int', long_name='Thermalization time factor', description='Factor to multiply the T1 time in cooldown qubit resets. exp(-5) = 0.0067', last_updated='2024-07-11 14:29:17.579638', uncertainty=None), pulse_sets={'drag_gaussian': PulseSetDragGaussian(pulse_name='drag_gaussian', channel=IQChannel(operations={'x90_drag_gaussian': DragGaussianPulse(length=40, id=None, digital_marker=None, axis_angle=0, amplitude=0.25, sigma=7, alpha=0, anharmonicity=-1, detuning=0, subtracted=True), 'x180_drag_gaussian': DragGaussianPulse(length=40, id=None, digital_marker=None, axis_angle=0, amplitude=0.5, sigma=7, alpha=0, anharmonicity=-1, detuning=0, subtracted=True), 'y90_drag_gaussian': DragGaussianPulse(length=40, id=None, digital_marker=None, axis_angle=90, amplitude=0.25, sigma=7, alpha=0, anharmonicity=-1, detuning=0, subtracted=True), 'y180_drag_gaussian': DragGaussianPulse(length=40, id=None, digital_marker=None, axis_angle=90, amplitude=0.5, sigma=7, alpha=0, anharmonicity=-1, detuning=0, subtracted=True), '-x90_drag_gaussian': DragGaussianPulse(length=40, id=None, digital_marker=None, axis_angle=0, amplitude=-0.25, sigma=7, alpha=0, anharmonicity=-1, detuning=0, subtracted=True), '-y90_drag_gaussian': DragGaussianPulse(length=40, id=None, digital_marker=None, axis_angle=90, amplitude=-0.25, sigma=7, alpha=0, anharmonicity=-1, detuning=0, subtracted=True), 'rise_flattop_cosine': FlatTopCosinePulse(length=16, id=None, digital_marker=None, amplitude=0.1, axis_angle=None, flat_length=0, return_part='rise'), 'fall_flattop_cosine': FlatTopCosinePulse(length=16, id=None, digital_marker=None, amplitude=-0.1, axis_angle=None, flat_length=0, return_part='rise')}, id=None, digital_outputs={}, opx_output_I=('con1', 3), opx_output_Q=('con1', 4), opx_output_offset_I=None, opx_output_offset_Q=None, frequency_converter_up=OctaveUpConverterSQuID(id='2', channel=None, LO_frequency=5500000000.0, LO_source='internal', gain=0, output_mode='always_on', input_attenuators='off'), intermediate_frequency=0.0, LO_frequency=5500000000.0, RF_frequency=5500000000.0), amplitude_90=0.25, amplitude_90__metadata=QuamMetadata(unit='V', long_name='π/2-pulse peak amplitude', description='Amplitude of the π/2 pulse.', last_updated='2024-07-11 14:29:17.579638', uncertainty=None), amplitude_180=0.5, amplitude_180__metadata=QuamMetadata(unit='V', long_name='π-pulse peak amplitude', description='Amplitude of the π pulse.', last_updated='2024-07-11 14:29:17.579638', uncertainty=None), length=40, length__metadata=QuamMetadata(unit='ns', long_name='Pulse length', description='Length of the window containing the pulse.', last_updated='2024-07-11 14:29:17.579638', uncertainty=None), sigma=7, sigma__metadata=QuamMetadata(unit='ns', long_name='Pulse sigma', description='Width of the Gaussian waveform pulse.', last_updated='2024-07-11 14:29:17.579638', uncertainty=None), phase_x=0, phase_x__metadata=QuamMetadata(unit='degree', long_name='X-axis phase', description='Phase of the pulse in the X-axis.', last_updated='2024-07-11 14:29:17.579638', uncertainty=None), phase_y=90, phase_y__metadata=QuamMetadata(unit='degree', long_name='Y-axis phase', description='Phase of the pulse in the Y-axis.', last_updated='2024-07-11 14:29:17.579638', uncertainty=None), anharmonicity=-1, anharmonicity__metadata=QuamMetadata(unit='Hz', long_name='Waveform anharmonicity', description='Anharmonicity used in the calculation of the DRAG waveform.', last_updated='2024-07-11 14:29:17.579638', uncertainty=None), detuning=0, detuning__metadata=QuamMetadata(unit='Hz', long_name='Detuning', description='Detuning of the pulse from the channel RF frequency.', last_updated='2024-07-11 14:29:17.579638', uncertainty=None), alpha=0, alpha__metadata=QuamMetadata(unit=None, long_name='DRAG coefficient', description='Coefficient for the derivative of the pulse.', last_updated='2024-07-11 14:29:17.579638', uncertainty=None), subtracted=True, subtracted__metadata=QuamMetadata(unit=None, long_name='Subtracted', description='Whether the pulse is shifted such that the end points are 0', last_updated='2024-07-11 14:29:17.579638', uncertainty=None), digital_marker=None), 'flattop_cosine': PulseSetFlattopCosine(pulse_name='flattop_cosine', channel=IQChannel(operations={'x90_drag_gaussian': DragGaussianPulse(length=40, id=None, digital_marker=None, axis_angle=0, amplitude=0.25, sigma=7, alpha=0, anharmonicity=-1, detuning=0, subtracted=True), 'x180_drag_gaussian': DragGaussianPulse(length=40, id=None, digital_marker=None, axis_angle=0, amplitude=0.5, sigma=7, alpha=0, anharmonicity=-1, detuning=0, subtracted=True), 'y90_drag_gaussian': DragGaussianPulse(length=40, id=None, digital_marker=None, axis_angle=90, amplitude=0.25, sigma=7, alpha=0, anharmonicity=-1, detuning=0, subtracted=True), 'y180_drag_gaussian': DragGaussianPulse(length=40, id=None, digital_marker=None, axis_angle=90, amplitude=0.5, sigma=7, alpha=0, anharmonicity=-1, detuning=0, subtracted=True), '-x90_drag_gaussian': DragGaussianPulse(length=40, id=None, digital_marker=None, axis_angle=0, amplitude=-0.25, sigma=7, alpha=0, anharmonicity=-1, detuning=0, subtracted=True), '-y90_drag_gaussian': DragGaussianPulse(length=40, id=None, digital_marker=None, axis_angle=90, amplitude=-0.25, sigma=7, alpha=0, anharmonicity=-1, detuning=0, subtracted=True), 'rise_flattop_cosine': FlatTopCosinePulse(length=16, id=None, digital_marker=None, amplitude=0.1, axis_angle=None, flat_length=0, return_part='rise'), 'fall_flattop_cosine': FlatTopCosinePulse(length=16, id=None, digital_marker=None, amplitude=-0.1, axis_angle=None, flat_length=0, return_part='rise')}, id=None, digital_outputs={}, opx_output_I=('con1', 3), opx_output_Q=('con1', 4), opx_output_offset_I=None, opx_output_offset_Q=None, frequency_converter_up=OctaveUpConverterSQuID(id='2', channel=None, LO_frequency=5500000000.0, LO_source='internal', gain=0, output_mode='always_on', input_attenuators='off'), intermediate_frequency=0.0, LO_frequency=5500000000.0, RF_frequency=5500000000.0), amplitude=0.1, amplitude__metadata=QuamMetadata(unit='V', long_name='Pulse amplitude', description='Peak amplitude of the pulse.', last_updated='2024-07-11 14:29:17.579638', uncertainty=None), rise_fall_time=16, rise_fall_time__metadata=QuamMetadata(unit='ns', long_name='Rise and fall time', description='Time taken for the pulse to rise and fall, each the rise and fall parts are each of this duration.', last_updated='2024-07-11 14:29:17.579638', uncertainty=None))}), 'q1': ScQubit(id='q1', xy=IQChannel(operations={'x90_drag_gaussian': DragGaussianPulse(length=40, id=None, digital_marker=None, axis_angle=0, amplitude=0.25, sigma=7, alpha=0, anharmonicity=-1, detuning=0, subtracted=True), 'x180_drag_gaussian': DragGaussianPulse(length=40, id=None, digital_marker=None, axis_angle=0, amplitude=0.5, sigma=7, alpha=0, anharmonicity=-1, detuning=0, subtracted=True), 'y90_drag_gaussian': DragGaussianPulse(length=40, id=None, digital_marker=None, axis_angle=90, amplitude=0.25, sigma=7, alpha=0, anharmonicity=-1, detuning=0, subtracted=True), 'y180_drag_gaussian': DragGaussianPulse(length=40, id=None, digital_marker=None, axis_angle=90, amplitude=0.5, sigma=7, alpha=0, anharmonicity=-1, detuning=0, subtracted=True), '-x90_drag_gaussian': DragGaussianPulse(length=40, id=None, digital_marker=None, axis_angle=0, amplitude=-0.25, sigma=7, alpha=0, anharmonicity=-1, detuning=0, subtracted=True), '-y90_drag_gaussian': DragGaussianPulse(length=40, id=None, digital_marker=None, axis_angle=90, amplitude=-0.25, sigma=7, alpha=0, anharmonicity=-1, detuning=0, subtracted=True), 'rise_flattop_cosine': FlatTopCosinePulse(length=16, id=None, digital_marker=None, amplitude=0.1, axis_angle=None, flat_length=0, return_part='rise'), 'fall_flattop_cosine': FlatTopCosinePulse(length=16, id=None, digital_marker=None, amplitude=-0.1, axis_angle=None, flat_length=0, return_part='rise')}, id=None, digital_outputs={}, opx_output_I=('con1', 5), opx_output_Q=('con1', 6), opx_output_offset_I=None, opx_output_offset_Q=None, frequency_converter_up=OctaveUpConverterSQuID(id='3', channel=None, LO_frequency=5500000000.0, LO_source='internal', gain=0, output_mode='always_on', input_attenuators='off'), intermediate_frequency=0.0, LO_frequency=5500000000.0, RF_frequency=5500000000.0), resonator=ReadoutResonator(channel=InOutIQChannel(operations={'readout': SquareReadoutPulse(length=1000, id=None, digital_marker='ON', amplitude=0.1, axis_angle=None, threshold=0.0, rus_exit_threshold=None, integration_weights=None, integration_weights_angle=0)}, id='q1.resonator', digital_outputs={}, opx_input_I=('con1', 1), opx_input_Q=('con1', 2), time_of_flight=24, smearing=0, opx_input_offset_I=None, opx_input_offset_Q=None, input_gain=None, frequency_converter_down=OctaveDownConverterSQuID(id=1, channel=None, LO_frequency=5000000000.0, LO_source='internal', IF_mode_I='direct', IF_mode_Q='direct', IF_output_I=1, IF_output_Q=2), opx_output_I=('con1', 1), opx_output_Q=('con1', 2), opx_output_offset_I=None, opx_output_offset_Q=None, frequency_converter_up=OctaveUpConverterSQuID(id='1', channel=None, LO_frequency=5000000000.0, LO_source='internal', gain=0, output_mode='always_on', input_attenuators='off'), intermediate_frequency=0.0, LO_frequency=5000000000.0, RF_frequency=5000000000.0), depletion_time=None, depletion_time__metadata=QuamMetadata(unit='ns', long_name='Depletion time', description='The resonator depletion time', last_updated='2024-07-11 14:29:17.579638', uncertainty=None), frequency_bare=None, frequency_bare__metadata=QuamMetadata(unit='Hz', long_name='Bare frequency', description='The bare resonator frequency, i.e., as measured at high power', last_updated='2024-07-11 14:29:17.579638', uncertainty=None), frequency_q0=None, frequency_q0__metadata=QuamMetadata(unit='Hz', long_name='Q0 frequency', description='The dispersively shifted resonator frequency with the qubit in state |0⟩', last_updated='2024-07-11 14:29:17.579638', uncertainty=None), frequency_q1=None, frequency_q1__metadata=QuamMetadata(unit='Hz', long_name='Q1 frequency', description='The dispersively shifted resonator frequency with the qubit in state |1⟩', last_updated='2024-07-11 14:29:17.579638', uncertainty=None), Q_int=None, Q_int__metadata=QuamMetadata(unit=None, long_name='Internal quality factor', description='The internal quality factor of the resonator', last_updated='2024-07-11 14:29:17.579638', uncertainty=None), Q_ext=None, Q_ext__metadata=QuamMetadata(unit=None, long_name='External quality factor', description='The external quality factor of the resonator', last_updated='2024-07-11 14:29:17.579638', uncertainty=None), readout_frequency__metadata=QuamMetadata(unit='Hz', long_name='Readout frequency', description='The readout frequency of the resonator', last_updated='2024-07-11 14:29:17.579638', uncertainty=None)), transition_frequencies=[6, 5], transition_frequencies__metadata=QuamMetadata(unit='Hz', long_name='Transition frequencies', description='Transition frequencies of the qubit in the form [f01, f12, ...]', last_updated='2024-07-11 14:29:17.579638', uncertainty=None), T1=None, T1__metadata=QuamMetadata(unit='s', long_name='T1', description='Qubit decay rate', last_updated='2024-07-11 14:29:17.579638', uncertainty=None), T2ramsey=None, T2ramsey__metadata=QuamMetadata(unit='s', long_name='T2 Ramsey', description='Dephasing time as measured by a Ramsey experiment', last_updated='2024-07-11 14:29:17.579638', uncertainty=None), T2echo=None, T2echo__metadata=QuamMetadata(unit='s', long_name='T2 echo', description='Dephasing time as measured by an echo experiment', last_updated='2024-07-11 14:29:17.579638', uncertainty=None), thermalization_time_factor=5, thermalization_time_factor__metadata=QuamMetadata(unit='int', long_name='Thermalization time factor', description='Factor to multiply the T1 time in cooldown qubit resets. exp(-5) = 0.0067', last_updated='2024-07-11 14:29:17.579638', uncertainty=None), pulse_sets={'drag_gaussian': PulseSetDragGaussian(pulse_name='drag_gaussian', channel=IQChannel(operations={'x90_drag_gaussian': DragGaussianPulse(length=40, id=None, digital_marker=None, axis_angle=0, amplitude=0.25, sigma=7, alpha=0, anharmonicity=-1, detuning=0, subtracted=True), 'x180_drag_gaussian': DragGaussianPulse(length=40, id=None, digital_marker=None, axis_angle=0, amplitude=0.5, sigma=7, alpha=0, anharmonicity=-1, detuning=0, subtracted=True), 'y90_drag_gaussian': DragGaussianPulse(length=40, id=None, digital_marker=None, axis_angle=90, amplitude=0.25, sigma=7, alpha=0, anharmonicity=-1, detuning=0, subtracted=True), 'y180_drag_gaussian': DragGaussianPulse(length=40, id=None, digital_marker=None, axis_angle=90, amplitude=0.5, sigma=7, alpha=0, anharmonicity=-1, detuning=0, subtracted=True), '-x90_drag_gaussian': DragGaussianPulse(length=40, id=None, digital_marker=None, axis_angle=0, amplitude=-0.25, sigma=7, alpha=0, anharmonicity=-1, detuning=0, subtracted=True), '-y90_drag_gaussian': DragGaussianPulse(length=40, id=None, digital_marker=None, axis_angle=90, amplitude=-0.25, sigma=7, alpha=0, anharmonicity=-1, detuning=0, subtracted=True), 'rise_flattop_cosine': FlatTopCosinePulse(length=16, id=None, digital_marker=None, amplitude=0.1, axis_angle=None, flat_length=0, return_part='rise'), 'fall_flattop_cosine': FlatTopCosinePulse(length=16, id=None, digital_marker=None, amplitude=-0.1, axis_angle=None, flat_length=0, return_part='rise')}, id=None, digital_outputs={}, opx_output_I=('con1', 5), opx_output_Q=('con1', 6), opx_output_offset_I=None, opx_output_offset_Q=None, frequency_converter_up=OctaveUpConverterSQuID(id='3', channel=None, LO_frequency=5500000000.0, LO_source='internal', gain=0, output_mode='always_on', input_attenuators='off'), intermediate_frequency=0.0, LO_frequency=5500000000.0, RF_frequency=5500000000.0), amplitude_90=0.25, amplitude_90__metadata=QuamMetadata(unit='V', long_name='π/2-pulse peak amplitude', description='Amplitude of the π/2 pulse.', last_updated='2024-07-11 14:29:17.579638', uncertainty=None), amplitude_180=0.5, amplitude_180__metadata=QuamMetadata(unit='V', long_name='π-pulse peak amplitude', description='Amplitude of the π pulse.', last_updated='2024-07-11 14:29:17.579638', uncertainty=None), length=40, length__metadata=QuamMetadata(unit='ns', long_name='Pulse length', description='Length of the window containing the pulse.', last_updated='2024-07-11 14:29:17.579638', uncertainty=None), sigma=7, sigma__metadata=QuamMetadata(unit='ns', long_name='Pulse sigma', description='Width of the Gaussian waveform pulse.', last_updated='2024-07-11 14:29:17.579638', uncertainty=None), phase_x=0, phase_x__metadata=QuamMetadata(unit='degree', long_name='X-axis phase', description='Phase of the pulse in the X-axis.', last_updated='2024-07-11 14:29:17.579638', uncertainty=None), phase_y=90, phase_y__metadata=QuamMetadata(unit='degree', long_name='Y-axis phase', description='Phase of the pulse in the Y-axis.', last_updated='2024-07-11 14:29:17.579638', uncertainty=None), anharmonicity=-1, anharmonicity__metadata=QuamMetadata(unit='Hz', long_name='Waveform anharmonicity', description='Anharmonicity used in the calculation of the DRAG waveform.', last_updated='2024-07-11 14:29:17.579638', uncertainty=None), detuning=0, detuning__metadata=QuamMetadata(unit='Hz', long_name='Detuning', description='Detuning of the pulse from the channel RF frequency.', last_updated='2024-07-11 14:29:17.579638', uncertainty=None), alpha=0, alpha__metadata=QuamMetadata(unit=None, long_name='DRAG coefficient', description='Coefficient for the derivative of the pulse.', last_updated='2024-07-11 14:29:17.579638', uncertainty=None), subtracted=True, subtracted__metadata=QuamMetadata(unit=None, long_name='Subtracted', description='Whether the pulse is shifted such that the end points are 0', last_updated='2024-07-11 14:29:17.579638', uncertainty=None), digital_marker=None), 'flattop_cosine': PulseSetFlattopCosine(pulse_name='flattop_cosine', channel=IQChannel(operations={'x90_drag_gaussian': DragGaussianPulse(length=40, id=None, digital_marker=None, axis_angle=0, amplitude=0.25, sigma=7, alpha=0, anharmonicity=-1, detuning=0, subtracted=True), 'x180_drag_gaussian': DragGaussianPulse(length=40, id=None, digital_marker=None, axis_angle=0, amplitude=0.5, sigma=7, alpha=0, anharmonicity=-1, detuning=0, subtracted=True), 'y90_drag_gaussian': DragGaussianPulse(length=40, id=None, digital_marker=None, axis_angle=90, amplitude=0.25, sigma=7, alpha=0, anharmonicity=-1, detuning=0, subtracted=True), 'y180_drag_gaussian': DragGaussianPulse(length=40, id=None, digital_marker=None, axis_angle=90, amplitude=0.5, sigma=7, alpha=0, anharmonicity=-1, detuning=0, subtracted=True), '-x90_drag_gaussian': DragGaussianPulse(length=40, id=None, digital_marker=None, axis_angle=0, amplitude=-0.25, sigma=7, alpha=0, anharmonicity=-1, detuning=0, subtracted=True), '-y90_drag_gaussian': DragGaussianPulse(length=40, id=None, digital_marker=None, axis_angle=90, amplitude=-0.25, sigma=7, alpha=0, anharmonicity=-1, detuning=0, subtracted=True), 'rise_flattop_cosine': FlatTopCosinePulse(length=16, id=None, digital_marker=None, amplitude=0.1, axis_angle=None, flat_length=0, return_part='rise'), 'fall_flattop_cosine': FlatTopCosinePulse(length=16, id=None, digital_marker=None, amplitude=-0.1, axis_angle=None, flat_length=0, return_part='rise')}, id=None, digital_outputs={}, opx_output_I=('con1', 5), opx_output_Q=('con1', 6), opx_output_offset_I=None, opx_output_offset_Q=None, frequency_converter_up=OctaveUpConverterSQuID(id='3', channel=None, LO_frequency=5500000000.0, LO_source='internal', gain=0, output_mode='always_on', input_attenuators='off'), intermediate_frequency=0.0, LO_frequency=5500000000.0, RF_frequency=5500000000.0), amplitude=0.1, amplitude__metadata=QuamMetadata(unit='V', long_name='Pulse amplitude', description='Peak amplitude of the pulse.', last_updated='2024-07-11 14:29:17.579638', uncertainty=None), rise_fall_time=16, rise_fall_time__metadata=QuamMetadata(unit='ns', long_name='Rise and fall time', description='Time taken for the pulse to rise and fall, each the rise and fall parts are each of this duration.', last_updated='2024-07-11 14:29:17.579638', uncertainty=None))}), 'q2': ScQubit(id='q2', xy=IQChannel(operations={'x90_drag_gaussian': DragGaussianPulse(length=40, id=None, digital_marker=None, axis_angle=0, amplitude=0.25, sigma=7, alpha=0, anharmonicity=-1, detuning=0, subtracted=True), 'x180_drag_gaussian': DragGaussianPulse(length=40, id=None, digital_marker=None, axis_angle=0, amplitude=0.5, sigma=7, alpha=0, anharmonicity=-1, detuning=0, subtracted=True), 'y90_drag_gaussian': DragGaussianPulse(length=40, id=None, digital_marker=None, axis_angle=90, amplitude=0.25, sigma=7, alpha=0, anharmonicity=-1, detuning=0, subtracted=True), 'y180_drag_gaussian': DragGaussianPulse(length=40, id=None, digital_marker=None, axis_angle=90, amplitude=0.5, sigma=7, alpha=0, anharmonicity=-1, detuning=0, subtracted=True), '-x90_drag_gaussian': DragGaussianPulse(length=40, id=None, digital_marker=None, axis_angle=0, amplitude=-0.25, sigma=7, alpha=0, anharmonicity=-1, detuning=0, subtracted=True), '-y90_drag_gaussian': DragGaussianPulse(length=40, id=None, digital_marker=None, axis_angle=90, amplitude=-0.25, sigma=7, alpha=0, anharmonicity=-1, detuning=0, subtracted=True), 'rise_flattop_cosine': FlatTopCosinePulse(length=16, id=None, digital_marker=None, amplitude=0.1, axis_angle=None, flat_length=0, return_part='rise'), 'fall_flattop_cosine': FlatTopCosinePulse(length=16, id=None, digital_marker=None, amplitude=-0.1, axis_angle=None, flat_length=0, return_part='rise')}, id=None, digital_outputs={}, opx_output_I=('con1', 7), opx_output_Q=('con1', 8), opx_output_offset_I=None, opx_output_offset_Q=None, frequency_converter_up=OctaveUpConverterSQuID(id='4', channel=None, LO_frequency=5500000000.0, LO_source='internal', gain=0, output_mode='always_on', input_attenuators='off'), intermediate_frequency=0.0, LO_frequency=5500000000.0, RF_frequency=5500000000.0), resonator=ReadoutResonator(channel=InOutIQChannel(operations={'readout': SquareReadoutPulse(length=1000, id=None, digital_marker='ON', amplitude=0.1, axis_angle=None, threshold=0.0, rus_exit_threshold=None, integration_weights=None, integration_weights_angle=0)}, id='q2.resonator', digital_outputs={}, opx_input_I=('con1', 1), opx_input_Q=('con1', 2), time_of_flight=24, smearing=0, opx_input_offset_I=None, opx_input_offset_Q=None, input_gain=None, frequency_converter_down=OctaveDownConverterSQuID(id=1, channel=None, LO_frequency=5000000000.0, LO_source='internal', IF_mode_I='direct', IF_mode_Q='direct', IF_output_I=1, IF_output_Q=2), opx_output_I=('con1', 1), opx_output_Q=('con1', 2), opx_output_offset_I=None, opx_output_offset_Q=None, frequency_converter_up=OctaveUpConverterSQuID(id='1', channel=None, LO_frequency=5000000000.0, LO_source='internal', gain=0, output_mode='always_on', input_attenuators='off'), intermediate_frequency=0.0, LO_frequency=5000000000.0, RF_frequency=5000000000.0), depletion_time=None, depletion_time__metadata=QuamMetadata(unit='ns', long_name='Depletion time', description='The resonator depletion time', last_updated='2024-07-11 14:29:17.579638', uncertainty=None), frequency_bare=None, frequency_bare__metadata=QuamMetadata(unit='Hz', long_name='Bare frequency', description='The bare resonator frequency, i.e., as measured at high power', last_updated='2024-07-11 14:29:17.579638', uncertainty=None), frequency_q0=None, frequency_q0__metadata=QuamMetadata(unit='Hz', long_name='Q0 frequency', description='The dispersively shifted resonator frequency with the qubit in state |0⟩', last_updated='2024-07-11 14:29:17.579638', uncertainty=None), frequency_q1=None, frequency_q1__metadata=QuamMetadata(unit='Hz', long_name='Q1 frequency', description='The dispersively shifted resonator frequency with the qubit in state |1⟩', last_updated='2024-07-11 14:29:17.579638', uncertainty=None), Q_int=None, Q_int__metadata=QuamMetadata(unit=None, long_name='Internal quality factor', description='The internal quality factor of the resonator', last_updated='2024-07-11 14:29:17.579638', uncertainty=None), Q_ext=None, Q_ext__metadata=QuamMetadata(unit=None, long_name='External quality factor', description='The external quality factor of the resonator', last_updated='2024-07-11 14:29:17.579638', uncertainty=None), readout_frequency__metadata=QuamMetadata(unit='Hz', long_name='Readout frequency', description='The readout frequency of the resonator', last_updated='2024-07-11 14:29:17.579638', uncertainty=None)), transition_frequencies=[6, 5], transition_frequencies__metadata=QuamMetadata(unit='Hz', long_name='Transition frequencies', description='Transition frequencies of the qubit in the form [f01, f12, ...]', last_updated='2024-07-11 14:29:17.579638', uncertainty=None), T1=None, T1__metadata=QuamMetadata(unit='s', long_name='T1', description='Qubit decay rate', last_updated='2024-07-11 14:29:17.579638', uncertainty=None), T2ramsey=None, T2ramsey__metadata=QuamMetadata(unit='s', long_name='T2 Ramsey', description='Dephasing time as measured by a Ramsey experiment', last_updated='2024-07-11 14:29:17.579638', uncertainty=None), T2echo=None, T2echo__metadata=QuamMetadata(unit='s', long_name='T2 echo', description='Dephasing time as measured by an echo experiment', last_updated='2024-07-11 14:29:17.579638', uncertainty=None), thermalization_time_factor=5, thermalization_time_factor__metadata=QuamMetadata(unit='int', long_name='Thermalization time factor', description='Factor to multiply the T1 time in cooldown qubit resets. exp(-5) = 0.0067', last_updated='2024-07-11 14:29:17.579638', uncertainty=None), pulse_sets={'drag_gaussian': PulseSetDragGaussian(pulse_name='drag_gaussian', channel=IQChannel(operations={'x90_drag_gaussian': DragGaussianPulse(length=40, id=None, digital_marker=None, axis_angle=0, amplitude=0.25, sigma=7, alpha=0, anharmonicity=-1, detuning=0, subtracted=True), 'x180_drag_gaussian': DragGaussianPulse(length=40, id=None, digital_marker=None, axis_angle=0, amplitude=0.5, sigma=7, alpha=0, anharmonicity=-1, detuning=0, subtracted=True), 'y90_drag_gaussian': DragGaussianPulse(length=40, id=None, digital_marker=None, axis_angle=90, amplitude=0.25, sigma=7, alpha=0, anharmonicity=-1, detuning=0, subtracted=True), 'y180_drag_gaussian': DragGaussianPulse(length=40, id=None, digital_marker=None, axis_angle=90, amplitude=0.5, sigma=7, alpha=0, anharmonicity=-1, detuning=0, subtracted=True), '-x90_drag_gaussian': DragGaussianPulse(length=40, id=None, digital_marker=None, axis_angle=0, amplitude=-0.25, sigma=7, alpha=0, anharmonicity=-1, detuning=0, subtracted=True), '-y90_drag_gaussian': DragGaussianPulse(length=40, id=None, digital_marker=None, axis_angle=90, amplitude=-0.25, sigma=7, alpha=0, anharmonicity=-1, detuning=0, subtracted=True), 'rise_flattop_cosine': FlatTopCosinePulse(length=16, id=None, digital_marker=None, amplitude=0.1, axis_angle=None, flat_length=0, return_part='rise'), 'fall_flattop_cosine': FlatTopCosinePulse(length=16, id=None, digital_marker=None, amplitude=-0.1, axis_angle=None, flat_length=0, return_part='rise')}, id=None, digital_outputs={}, opx_output_I=('con1', 7), opx_output_Q=('con1', 8), opx_output_offset_I=None, opx_output_offset_Q=None, frequency_converter_up=OctaveUpConverterSQuID(id='4', channel=None, LO_frequency=5500000000.0, LO_source='internal', gain=0, output_mode='always_on', input_attenuators='off'), intermediate_frequency=0.0, LO_frequency=5500000000.0, RF_frequency=5500000000.0), amplitude_90=0.25, amplitude_90__metadata=QuamMetadata(unit='V', long_name='π/2-pulse peak amplitude', description='Amplitude of the π/2 pulse.', last_updated='2024-07-11 14:29:17.579638', uncertainty=None), amplitude_180=0.5, amplitude_180__metadata=QuamMetadata(unit='V', long_name='π-pulse peak amplitude', description='Amplitude of the π pulse.', last_updated='2024-07-11 14:29:17.579638', uncertainty=None), length=40, length__metadata=QuamMetadata(unit='ns', long_name='Pulse length', description='Length of the window containing the pulse.', last_updated='2024-07-11 14:29:17.579638', uncertainty=None), sigma=7, sigma__metadata=QuamMetadata(unit='ns', long_name='Pulse sigma', description='Width of the Gaussian waveform pulse.', last_updated='2024-07-11 14:29:17.579638', uncertainty=None), phase_x=0, phase_x__metadata=QuamMetadata(unit='degree', long_name='X-axis phase', description='Phase of the pulse in the X-axis.', last_updated='2024-07-11 14:29:17.579638', uncertainty=None), phase_y=90, phase_y__metadata=QuamMetadata(unit='degree', long_name='Y-axis phase', description='Phase of the pulse in the Y-axis.', last_updated='2024-07-11 14:29:17.579638', uncertainty=None), anharmonicity=-1, anharmonicity__metadata=QuamMetadata(unit='Hz', long_name='Waveform anharmonicity', description='Anharmonicity used in the calculation of the DRAG waveform.', last_updated='2024-07-11 14:29:17.579638', uncertainty=None), detuning=0, detuning__metadata=QuamMetadata(unit='Hz', long_name='Detuning', description='Detuning of the pulse from the channel RF frequency.', last_updated='2024-07-11 14:29:17.579638', uncertainty=None), alpha=0, alpha__metadata=QuamMetadata(unit=None, long_name='DRAG coefficient', description='Coefficient for the derivative of the pulse.', last_updated='2024-07-11 14:29:17.579638', uncertainty=None), subtracted=True, subtracted__metadata=QuamMetadata(unit=None, long_name='Subtracted', description='Whether the pulse is shifted such that the end points are 0', last_updated='2024-07-11 14:29:17.579638', uncertainty=None), digital_marker=None), 'flattop_cosine': PulseSetFlattopCosine(pulse_name='flattop_cosine', channel=IQChannel(operations={'x90_drag_gaussian': DragGaussianPulse(length=40, id=None, digital_marker=None, axis_angle=0, amplitude=0.25, sigma=7, alpha=0, anharmonicity=-1, detuning=0, subtracted=True), 'x180_drag_gaussian': DragGaussianPulse(length=40, id=None, digital_marker=None, axis_angle=0, amplitude=0.5, sigma=7, alpha=0, anharmonicity=-1, detuning=0, subtracted=True), 'y90_drag_gaussian': DragGaussianPulse(length=40, id=None, digital_marker=None, axis_angle=90, amplitude=0.25, sigma=7, alpha=0, anharmonicity=-1, detuning=0, subtracted=True), 'y180_drag_gaussian': DragGaussianPulse(length=40, id=None, digital_marker=None, axis_angle=90, amplitude=0.5, sigma=7, alpha=0, anharmonicity=-1, detuning=0, subtracted=True), '-x90_drag_gaussian': DragGaussianPulse(length=40, id=None, digital_marker=None, axis_angle=0, amplitude=-0.25, sigma=7, alpha=0, anharmonicity=-1, detuning=0, subtracted=True), '-y90_drag_gaussian': DragGaussianPulse(length=40, id=None, digital_marker=None, axis_angle=90, amplitude=-0.25, sigma=7, alpha=0, anharmonicity=-1, detuning=0, subtracted=True), 'rise_flattop_cosine': FlatTopCosinePulse(length=16, id=None, digital_marker=None, amplitude=0.1, axis_angle=None, flat_length=0, return_part='rise'), 'fall_flattop_cosine': FlatTopCosinePulse(length=16, id=None, digital_marker=None, amplitude=-0.1, axis_angle=None, flat_length=0, return_part='rise')}, id=None, digital_outputs={}, opx_output_I=('con1', 7), opx_output_Q=('con1', 8), opx_output_offset_I=None, opx_output_offset_Q=None, frequency_converter_up=OctaveUpConverterSQuID(id='4', channel=None, LO_frequency=5500000000.0, LO_source='internal', gain=0, output_mode='always_on', input_attenuators='off'), intermediate_frequency=0.0, LO_frequency=5500000000.0, RF_frequency=5500000000.0), amplitude=0.1, amplitude__metadata=QuamMetadata(unit='V', long_name='Pulse amplitude', description='Peak amplitude of the pulse.', last_updated='2024-07-11 14:29:17.579638', uncertainty=None), rise_fall_time=16, rise_fall_time__metadata=QuamMetadata(unit='ns', long_name='Rise and fall time', description='Time taken for the pulse to rise and fall, each the rise and fall parts are each of this duration.', last_updated='2024-07-11 14:29:17.579638', uncertainty=None))}), 'q3': ScQubit(id='q3', xy=IQChannel(operations={'x90_drag_gaussian': DragGaussianPulse(length=40, id=None, digital_marker=None, axis_angle=0, amplitude=0.25, sigma=7, alpha=0, anharmonicity=-1, detuning=0, subtracted=True), 'x180_drag_gaussian': DragGaussianPulse(length=40, id=None, digital_marker=None, axis_angle=0, amplitude=0.5, sigma=7, alpha=0, anharmonicity=-1, detuning=0, subtracted=True), 'y90_drag_gaussian': DragGaussianPulse(length=40, id=None, digital_marker=None, axis_angle=90, amplitude=0.25, sigma=7, alpha=0, anharmonicity=-1, detuning=0, subtracted=True), 'y180_drag_gaussian': DragGaussianPulse(length=40, id=None, digital_marker=None, axis_angle=90, amplitude=0.5, sigma=7, alpha=0, anharmonicity=-1, detuning=0, subtracted=True), '-x90_drag_gaussian': DragGaussianPulse(length=40, id=None, digital_marker=None, axis_angle=0, amplitude=-0.25, sigma=7, alpha=0, anharmonicity=-1, detuning=0, subtracted=True), '-y90_drag_gaussian': DragGaussianPulse(length=40, id=None, digital_marker=None, axis_angle=90, amplitude=-0.25, sigma=7, alpha=0, anharmonicity=-1, detuning=0, subtracted=True), 'rise_flattop_cosine': FlatTopCosinePulse(length=16, id=None, digital_marker=None, amplitude=0.1, axis_angle=None, flat_length=0, return_part='rise'), 'fall_flattop_cosine': FlatTopCosinePulse(length=16, id=None, digital_marker=None, amplitude=-0.1, axis_angle=None, flat_length=0, return_part='rise')}, id=None, digital_outputs={}, opx_output_I=('con1', 9), opx_output_Q=('con1', 10), opx_output_offset_I=None, opx_output_offset_Q=None, frequency_converter_up=OctaveUpConverterSQuID(id='5', channel=None, LO_frequency=5500000000.0, LO_source='internal', gain=0, output_mode='always_on', input_attenuators='off'), intermediate_frequency=0.0, LO_frequency=5500000000.0, RF_frequency=5500000000.0), resonator=ReadoutResonator(channel=InOutIQChannel(operations={'readout': SquareReadoutPulse(length=1000, id=None, digital_marker='ON', amplitude=0.1, axis_angle=None, threshold=0.0, rus_exit_threshold=None, integration_weights=None, integration_weights_angle=0)}, id='q3.resonator', digital_outputs={}, opx_input_I=('con1', 1), opx_input_Q=('con1', 2), time_of_flight=24, smearing=0, opx_input_offset_I=None, opx_input_offset_Q=None, input_gain=None, frequency_converter_down=OctaveDownConverterSQuID(id=1, channel=None, LO_frequency=5000000000.0, LO_source='internal', IF_mode_I='direct', IF_mode_Q='direct', IF_output_I=1, IF_output_Q=2), opx_output_I=('con1', 1), opx_output_Q=('con1', 2), opx_output_offset_I=None, opx_output_offset_Q=None, frequency_converter_up=OctaveUpConverterSQuID(id='1', channel=None, LO_frequency=5000000000.0, LO_source='internal', gain=0, output_mode='always_on', input_attenuators='off'), intermediate_frequency=0.0, LO_frequency=5000000000.0, RF_frequency=5000000000.0), depletion_time=None, depletion_time__metadata=QuamMetadata(unit='ns', long_name='Depletion time', description='The resonator depletion time', last_updated='2024-07-11 14:29:17.579638', uncertainty=None), frequency_bare=None, frequency_bare__metadata=QuamMetadata(unit='Hz', long_name='Bare frequency', description='The bare resonator frequency, i.e., as measured at high power', last_updated='2024-07-11 14:29:17.579638', uncertainty=None), frequency_q0=None, frequency_q0__metadata=QuamMetadata(unit='Hz', long_name='Q0 frequency', description='The dispersively shifted resonator frequency with the qubit in state |0⟩', last_updated='2024-07-11 14:29:17.579638', uncertainty=None), frequency_q1=None, frequency_q1__metadata=QuamMetadata(unit='Hz', long_name='Q1 frequency', description='The dispersively shifted resonator frequency with the qubit in state |1⟩', last_updated='2024-07-11 14:29:17.579638', uncertainty=None), Q_int=None, Q_int__metadata=QuamMetadata(unit=None, long_name='Internal quality factor', description='The internal quality factor of the resonator', last_updated='2024-07-11 14:29:17.579638', uncertainty=None), Q_ext=None, Q_ext__metadata=QuamMetadata(unit=None, long_name='External quality factor', description='The external quality factor of the resonator', last_updated='2024-07-11 14:29:17.579638', uncertainty=None), readout_frequency__metadata=QuamMetadata(unit='Hz', long_name='Readout frequency', description='The readout frequency of the resonator', last_updated='2024-07-11 14:29:17.579638', uncertainty=None)), transition_frequencies=[6, 5], transition_frequencies__metadata=QuamMetadata(unit='Hz', long_name='Transition frequencies', description='Transition frequencies of the qubit in the form [f01, f12, ...]', last_updated='2024-07-11 14:29:17.579638', uncertainty=None), T1=None, T1__metadata=QuamMetadata(unit='s', long_name='T1', description='Qubit decay rate', last_updated='2024-07-11 14:29:17.579638', uncertainty=None), T2ramsey=None, T2ramsey__metadata=QuamMetadata(unit='s', long_name='T2 Ramsey', description='Dephasing time as measured by a Ramsey experiment', last_updated='2024-07-11 14:29:17.579638', uncertainty=None), T2echo=None, T2echo__metadata=QuamMetadata(unit='s', long_name='T2 echo', description='Dephasing time as measured by an echo experiment', last_updated='2024-07-11 14:29:17.579638', uncertainty=None), thermalization_time_factor=5, thermalization_time_factor__metadata=QuamMetadata(unit='int', long_name='Thermalization time factor', description='Factor to multiply the T1 time in cooldown qubit resets. exp(-5) = 0.0067', last_updated='2024-07-11 14:29:17.579638', uncertainty=None), pulse_sets={'drag_gaussian': PulseSetDragGaussian(pulse_name='drag_gaussian', channel=IQChannel(operations={'x90_drag_gaussian': DragGaussianPulse(length=40, id=None, digital_marker=None, axis_angle=0, amplitude=0.25, sigma=7, alpha=0, anharmonicity=-1, detuning=0, subtracted=True), 'x180_drag_gaussian': DragGaussianPulse(length=40, id=None, digital_marker=None, axis_angle=0, amplitude=0.5, sigma=7, alpha=0, anharmonicity=-1, detuning=0, subtracted=True), 'y90_drag_gaussian': DragGaussianPulse(length=40, id=None, digital_marker=None, axis_angle=90, amplitude=0.25, sigma=7, alpha=0, anharmonicity=-1, detuning=0, subtracted=True), 'y180_drag_gaussian': DragGaussianPulse(length=40, id=None, digital_marker=None, axis_angle=90, amplitude=0.5, sigma=7, alpha=0, anharmonicity=-1, detuning=0, subtracted=True), '-x90_drag_gaussian': DragGaussianPulse(length=40, id=None, digital_marker=None, axis_angle=0, amplitude=-0.25, sigma=7, alpha=0, anharmonicity=-1, detuning=0, subtracted=True), '-y90_drag_gaussian': DragGaussianPulse(length=40, id=None, digital_marker=None, axis_angle=90, amplitude=-0.25, sigma=7, alpha=0, anharmonicity=-1, detuning=0, subtracted=True), 'rise_flattop_cosine': FlatTopCosinePulse(length=16, id=None, digital_marker=None, amplitude=0.1, axis_angle=None, flat_length=0, return_part='rise'), 'fall_flattop_cosine': FlatTopCosinePulse(length=16, id=None, digital_marker=None, amplitude=-0.1, axis_angle=None, flat_length=0, return_part='rise')}, id=None, digital_outputs={}, opx_output_I=('con1', 9), opx_output_Q=('con1', 10), opx_output_offset_I=None, opx_output_offset_Q=None, frequency_converter_up=OctaveUpConverterSQuID(id='5', channel=None, LO_frequency=5500000000.0, LO_source='internal', gain=0, output_mode='always_on', input_attenuators='off'), intermediate_frequency=0.0, LO_frequency=5500000000.0, RF_frequency=5500000000.0), amplitude_90=0.25, amplitude_90__metadata=QuamMetadata(unit='V', long_name='π/2-pulse peak amplitude', description='Amplitude of the π/2 pulse.', last_updated='2024-07-11 14:29:17.579638', uncertainty=None), amplitude_180=0.5, amplitude_180__metadata=QuamMetadata(unit='V', long_name='π-pulse peak amplitude', description='Amplitude of the π pulse.', last_updated='2024-07-11 14:29:17.579638', uncertainty=None), length=40, length__metadata=QuamMetadata(unit='ns', long_name='Pulse length', description='Length of the window containing the pulse.', last_updated='2024-07-11 14:29:17.579638', uncertainty=None), sigma=7, sigma__metadata=QuamMetadata(unit='ns', long_name='Pulse sigma', description='Width of the Gaussian waveform pulse.', last_updated='2024-07-11 14:29:17.579638', uncertainty=None), phase_x=0, phase_x__metadata=QuamMetadata(unit='degree', long_name='X-axis phase', description='Phase of the pulse in the X-axis.', last_updated='2024-07-11 14:29:17.579638', uncertainty=None), phase_y=90, phase_y__metadata=QuamMetadata(unit='degree', long_name='Y-axis phase', description='Phase of the pulse in the Y-axis.', last_updated='2024-07-11 14:29:17.579638', uncertainty=None), anharmonicity=-1, anharmonicity__metadata=QuamMetadata(unit='Hz', long_name='Waveform anharmonicity', description='Anharmonicity used in the calculation of the DRAG waveform.', last_updated='2024-07-11 14:29:17.579638', uncertainty=None), detuning=0, detuning__metadata=QuamMetadata(unit='Hz', long_name='Detuning', description='Detuning of the pulse from the channel RF frequency.', last_updated='2024-07-11 14:29:17.579638', uncertainty=None), alpha=0, alpha__metadata=QuamMetadata(unit=None, long_name='DRAG coefficient', description='Coefficient for the derivative of the pulse.', last_updated='2024-07-11 14:29:17.579638', uncertainty=None), subtracted=True, subtracted__metadata=QuamMetadata(unit=None, long_name='Subtracted', description='Whether the pulse is shifted such that the end points are 0', last_updated='2024-07-11 14:29:17.579638', uncertainty=None), digital_marker=None), 'flattop_cosine': PulseSetFlattopCosine(pulse_name='flattop_cosine', channel=IQChannel(operations={'x90_drag_gaussian': DragGaussianPulse(length=40, id=None, digital_marker=None, axis_angle=0, amplitude=0.25, sigma=7, alpha=0, anharmonicity=-1, detuning=0, subtracted=True), 'x180_drag_gaussian': DragGaussianPulse(length=40, id=None, digital_marker=None, axis_angle=0, amplitude=0.5, sigma=7, alpha=0, anharmonicity=-1, detuning=0, subtracted=True), 'y90_drag_gaussian': DragGaussianPulse(length=40, id=None, digital_marker=None, axis_angle=90, amplitude=0.25, sigma=7, alpha=0, anharmonicity=-1, detuning=0, subtracted=True), 'y180_drag_gaussian': DragGaussianPulse(length=40, id=None, digital_marker=None, axis_angle=90, amplitude=0.5, sigma=7, alpha=0, anharmonicity=-1, detuning=0, subtracted=True), '-x90_drag_gaussian': DragGaussianPulse(length=40, id=None, digital_marker=None, axis_angle=0, amplitude=-0.25, sigma=7, alpha=0, anharmonicity=-1, detuning=0, subtracted=True), '-y90_drag_gaussian': DragGaussianPulse(length=40, id=None, digital_marker=None, axis_angle=90, amplitude=-0.25, sigma=7, alpha=0, anharmonicity=-1, detuning=0, subtracted=True), 'rise_flattop_cosine': FlatTopCosinePulse(length=16, id=None, digital_marker=None, amplitude=0.1, axis_angle=None, flat_length=0, return_part='rise'), 'fall_flattop_cosine': FlatTopCosinePulse(length=16, id=None, digital_marker=None, amplitude=-0.1, axis_angle=None, flat_length=0, return_part='rise')}, id=None, digital_outputs={}, opx_output_I=('con1', 9), opx_output_Q=('con1', 10), opx_output_offset_I=None, opx_output_offset_Q=None, frequency_converter_up=OctaveUpConverterSQuID(id='5', channel=None, LO_frequency=5500000000.0, LO_source='internal', gain=0, output_mode='always_on', input_attenuators='off'), intermediate_frequency=0.0, LO_frequency=5500000000.0, RF_frequency=5500000000.0), amplitude=0.1, amplitude__metadata=QuamMetadata(unit='V', long_name='Pulse amplitude', description='Peak amplitude of the pulse.', last_updated='2024-07-11 14:29:17.579638', uncertainty=None), rise_fall_time=16, rise_fall_time__metadata=QuamMetadata(unit='ns', long_name='Rise and fall time', description='Time taken for the pulse to rise and fall, each the rise and fall parts are each of this duration.', last_updated='2024-07-11 14:29:17.579638', uncertainty=None))})}, shared_qubit_parameters={'drag_gaussian_pulse_parameters': {'length': 40, 'sigma': 7, 'subtracted': True}}, octaves={'octave1': OctaveSQuID(name='octave1', ip='10.209.96.11', port=80, calibration_db_path=None, RF_outputs={1: OctaveUpConverterSQuID(id='1', channel=None, LO_frequency=5000000000.0, LO_source='internal', gain=0, output_mode='always_on', input_attenuators='off'), 2: OctaveUpConverterSQuID(id='2', channel=None, LO_frequency=5500000000.0, LO_source='internal', gain=0, output_mode='always_on', input_attenuators='off'), 3: OctaveUpConverterSQuID(id='3', channel=None, LO_frequency=5500000000.0, LO_source='internal', gain=0, output_mode='always_on', input_attenuators='off'), 4: OctaveUpConverterSQuID(id='4', channel=None, LO_frequency=5500000000.0, LO_source='internal', gain=0, output_mode='always_on', input_attenuators='off'), 5: OctaveUpConverterSQuID(id='5', channel=None, LO_frequency=5500000000.0, LO_source='internal', gain=0, output_mode='always_on', input_attenuators='off')}, RF_inputs={1: OctaveDownConverterSQuID(id=1, channel=None, LO_frequency=5000000000.0, LO_source='internal', IF_mode_I='direct', IF_mode_Q='direct', IF_output_I=1, IF_output_Q=2)}, loopbacks=[])})"
      ]
     },
     "execution_count": 17,
     "metadata": {},
     "output_type": "execute_result"
    }
   ],
   "source": [
    "machine"
   ]
  },
  {
   "cell_type": "code",
   "execution_count": null,
   "metadata": {},
   "outputs": [],
   "source": []
  }
 ],
 "metadata": {
  "kernelspec": {
   "display_name": "quam_test2",
   "language": "python",
   "name": "python3"
  },
  "language_info": {
   "codemirror_mode": {
    "name": "ipython",
    "version": 3
   },
   "file_extension": ".py",
   "mimetype": "text/x-python",
   "name": "python",
   "nbconvert_exporter": "python",
   "pygments_lexer": "ipython3",
   "version": "3.11.9"
  }
 },
 "nbformat": 4,
 "nbformat_minor": 2
}
