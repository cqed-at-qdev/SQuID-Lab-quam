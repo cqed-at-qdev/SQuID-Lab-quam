{
 "cells": [
  {
   "cell_type": "code",
   "execution_count": 1,
   "metadata": {},
   "outputs": [
    {
     "name": "stdout",
     "output_type": "stream",
     "text": [
      "2024-07-22 15:40:50,992 - qm - INFO     - Starting session: b8a5a94d-3ff8-402f-bf14-415b545a882e\n"
     ]
    }
   ],
   "source": [
    "from squid_lab_quam.components.roots import SQuIDRoot1"
   ]
  },
  {
   "cell_type": "code",
   "execution_count": 2,
   "metadata": {},
   "outputs": [],
   "source": [
    "STATE_PATH = \"N:\\SCI-NBI-QDev\\Jacob\\quam_testing\\state\""
   ]
  },
  {
   "cell_type": "code",
   "execution_count": 3,
   "metadata": {},
   "outputs": [],
   "source": [
    "machine = SQuIDRoot1.load(STATE_PATH)"
   ]
  },
  {
   "cell_type": "code",
   "execution_count": 5,
   "metadata": {},
   "outputs": [
    {
     "name": "stdout",
     "output_type": "stream",
     "text": [
      "2024-07-22 15:41:01,534 - qm - INFO     - Performing health check\n",
      "2024-07-22 15:41:01,534 - qm - INFO     - Health check passed\n",
      "2024-07-22 15:41:05,282 - qm - INFO     - Octave \"octave1\" Health check passed, current temperature 58\n",
      "2024-07-22 15:41:08,038 - qm - INFO     - Compiling program\n"
     ]
    }
   ],
   "source": [
    "machine.qubits[\"q0\"].calibrate_drive_mixer()"
   ]
  },
  {
   "cell_type": "code",
   "execution_count": 5,
   "metadata": {},
   "outputs": [
    {
     "name": "stdout",
     "output_type": "stream",
     "text": [
      "2024-07-22 15:31:20,653 - qm - INFO     - Compiling program\n"
     ]
    }
   ],
   "source": [
    "machine.qubits[\"q0\"].calibrate_readout_mixer()"
   ]
  },
  {
   "cell_type": "code",
   "execution_count": null,
   "metadata": {},
   "outputs": [],
   "source": [
    "machine.execute()"
   ]
  }
 ],
 "metadata": {
  "kernelspec": {
   "display_name": "opx_control",
   "language": "python",
   "name": "python3"
  },
  "language_info": {
   "codemirror_mode": {
    "name": "ipython",
    "version": 3
   },
   "file_extension": ".py",
   "mimetype": "text/x-python",
   "name": "python",
   "nbconvert_exporter": "python",
   "pygments_lexer": "ipython3",
   "version": "3.11.9"
  }
 },
 "nbformat": 4,
 "nbformat_minor": 2
}
