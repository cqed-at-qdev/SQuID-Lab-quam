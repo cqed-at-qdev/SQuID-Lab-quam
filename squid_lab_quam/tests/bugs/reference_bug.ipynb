{
 "cells": [
  {
   "cell_type": "code",
   "execution_count": 16,
   "metadata": {},
   "outputs": [
    {
     "name": "stdout",
     "output_type": "stream",
     "text": [
      "3\n",
      "3\n"
     ]
    }
   ],
   "source": [
    "from squid_lab_quam.components.roots import SQuIDRoot1\n",
    "\n",
    "machine_1 = SQuIDRoot1()\n",
    "machine_2 = SQuIDRoot1()\n",
    "\n",
    "machine_1.param_A = \"#/param_B\"\n",
    "machine_2.param_A = \"#/param_B\"\n",
    "\n",
    "machine_1.param_B = 2\n",
    "machine_2.param_B = 3\n",
    "\n",
    "print(machine_1.param_A)\n",
    "print(machine_2.param_A)\n"
   ]
  }
 ],
 "metadata": {
  "kernelspec": {
   "display_name": "quam_test2",
   "language": "python",
   "name": "python3"
  },
  "language_info": {
   "codemirror_mode": {
    "name": "ipython",
    "version": 3
   },
   "file_extension": ".py",
   "mimetype": "text/x-python",
   "name": "python",
   "nbconvert_exporter": "python",
   "pygments_lexer": "ipython3",
   "version": "3.11.9"
  }
 },
 "nbformat": 4,
 "nbformat_minor": 2
}
