{
 "cells": [
  {
   "cell_type": "code",
   "execution_count": 1,
   "metadata": {},
   "outputs": [
    {
     "name": "stdout",
     "output_type": "stream",
     "text": [
      "2024-07-22 15:21:33,153 - qm - INFO     - Starting session: c6673065-f8ed-4447-ae88-e60ab79325d8\n"
     ]
    }
   ],
   "source": [
    "from squid_lab_quam.components.roots import SQuIDRoot1"
   ]
  },
  {
   "cell_type": "code",
   "execution_count": 2,
   "metadata": {},
   "outputs": [],
   "source": [
    "from squid_lab_quam.components.information import Information\n",
    "\n",
    "STATE_PATH = \"N:\\SCI-NBI-QDev\\Jacob\\quam_testing\\state\"\n",
    "USERNAME = \"Jacob Hastrup\"\n",
    "USER_KU_TAG = \"drn455\"\n",
    "\n",
    "information_chalmers = Information(\n",
    "    user_name=USERNAME,\n",
    "    user_ku_tag=USER_KU_TAG,\n",
    "    device_name=\"Chalmers/5q4c_v1_1\",\n",
    "    fridge_name='meso',\n",
    "    state_path=STATE_PATH,\n",
    ")\n",
    "\n",
    "information_soprano = Information(\n",
    "    user_name=USERNAME,\n",
    "    user_ku_tag=USER_KU_TAG,\n",
    "    device_name=\"QuantWare/soprano_v3\",\n",
    "    fridge_name='T5',\n",
    "    state_path=STATE_PATH,\n",
    ")\n"
   ]
  },
  {
   "cell_type": "code",
   "execution_count": 3,
   "metadata": {},
   "outputs": [],
   "source": [
    "from squid_lab_quam.components.network import OPXNetwork, OctaveNetwork\n",
    "\n",
    "network_meso = OPXNetwork(\n",
    "    host=\"10.209.67.168\",\n",
    "    cluster_name=\"Cluster_1\",\n",
    "    octave_networks={\n",
    "        \"octave1\": OctaveNetwork(\n",
    "            octave_host=\"10.209.67.174\", octave_port=80, controller=\"con1\"\n",
    "        )\n",
    "    },\n",
    ")\n",
    "\n",
    "network_t5 = OPXNetwork(\n",
    "        host= \"10.209.96.1\",\n",
    "        cluster_name= \"Cluster_1\",\n",
    "        octave_networks ={\n",
    "            \"octave1\": OctaveNetwork(\n",
    "                octave_host= \"10.209.96.11\",\n",
    "                octave_port= 80,\n",
    "                controller= \"con1\"\n",
    "            )\n",
    "        }\n",
    ")"
   ]
  },
  {
   "cell_type": "code",
   "execution_count": 4,
   "metadata": {},
   "outputs": [],
   "source": [
    "from squid_lab_quam.components.wiring import (\n",
    "    OPXWiring,\n",
    "    OPXFeedLineWiring,\n",
    "    OPXIQChannelWiring,\n",
    ")\n",
    "\n",
    "wiring = OPXWiring(\n",
    "    drive_lines={\n",
    "        \"q0\": OPXIQChannelWiring(\n",
    "            port_I=(\"con1\", 3),\n",
    "            port_Q=(\"con1\", 4),\n",
    "        ),\n",
    "        \"q1\": OPXIQChannelWiring(\n",
    "            port_I=(\"con1\", 5),\n",
    "            port_Q=(\"con1\", 6),\n",
    "        ),\n",
    "        \"q2\": OPXIQChannelWiring(\n",
    "            port_I=(\"con1\", 7),\n",
    "            port_Q=(\"con1\", 8),\n",
    "        ),\n",
    "        \"q3\": OPXIQChannelWiring(\n",
    "            port_I=(\"con1\", 9),\n",
    "            port_Q=(\"con1\", 10),\n",
    "        ),\n",
    "        # \"q4\": OPXIQChannelWiring(\n",
    "        #     port_I=(\"con1\", 9),\n",
    "        #     port_Q=(\"con1\", 10),\n",
    "        # ),\n",
    "    },\n",
    "    feed_lines={\n",
    "        \"feedline\": OPXFeedLineWiring(\n",
    "            output_I=(\"con1\", 1),\n",
    "            output_Q=(\"con1\", 2),\n",
    "            input_I=(\"con1\", 1),\n",
    "            input_Q=(\"con1\", 2),\n",
    "        )\n",
    "    },\n",
    ")\n"
   ]
  },
  {
   "cell_type": "code",
   "execution_count": 5,
   "metadata": {},
   "outputs": [
    {
     "ename": "SyntaxError",
     "evalue": "positional argument follows keyword argument (1313754965.py, line 6)",
     "output_type": "error",
     "traceback": [
      "\u001b[1;36m  Cell \u001b[1;32mIn[5], line 6\u001b[1;36m\u001b[0m\n\u001b[1;33m    )\u001b[0m\n\u001b[1;37m    ^\u001b[0m\n\u001b[1;31mSyntaxError\u001b[0m\u001b[1;31m:\u001b[0m positional argument follows keyword argument\n"
     ]
    }
   ],
   "source": [
    "machine = SQuIDRoot1.generate_empty_quam_single_feedline(\n",
    "    wiring=wiring,\n",
    "    network=network_t5,\n",
    "    information=information_soprano,\n",
    "    qubit_frequencies={\n",
    "        \"q0\": 5.05e9,\n",
    "        \"q1\": 5.1e9,\n",
    "        \"q2\": 5.15e9,\n",
    "        \"q3\": 5.2e9,\n",
    "        # \"q4\": 5.4e9,\n",
    "    },\n",
    "    drive_lo_frequencies=\n",
    "    {\n",
    "        \"q0\": 5.0e9,\n",
    "        \"q1\": 5.0e9,\n",
    "        \"q2\": 5.0e9,\n",
    "        \"q3\": 5.0e9,\n",
    "        # \"q4\": 5.4e9,\n",
    "    },\n",
    "    readout_lo_frequency=6.0e9,\n",
    "    resonator_frequencies_coupled=\n",
    "    {\n",
    "        \"q0\": 6.1e9,\n",
    "        \"q1\": 6.2e9,\n",
    "        \"q2\": 6.3e9,\n",
    "        \"q3\": 6.4e9,\n",
    "        # \"q4\": 6.0e9,\n",
    "    }\n",
    "    \n",
    "\n",
    ")"
   ]
  },
  {
   "cell_type": "code",
   "execution_count": null,
   "metadata": {},
   "outputs": [
    {
     "data": {
      "text/plain": [
       "'N:\\\\SCI-NBI-QDev\\\\Jacob\\\\quam_testing'"
      ]
     },
     "execution_count": 6,
     "metadata": {},
     "output_type": "execute_result"
    }
   ],
   "source": [
    "machine.information.calibration_db_path"
   ]
  },
  {
   "cell_type": "code",
   "execution_count": null,
   "metadata": {},
   "outputs": [],
   "source": [
    "machine.save()"
   ]
  },
  {
   "cell_type": "code",
   "execution_count": null,
   "metadata": {},
   "outputs": [
    {
     "name": "stdout",
     "output_type": "stream",
     "text": [
      "2024-07-22 15:07:25,180 - qm - INFO     - Performing health check\n",
      "2024-07-22 15:07:25,219 - qm - INFO     - Health check passed\n",
      "2024-07-22 15:07:28,581 - qm - INFO     - Octave \"octave1\" Health check passed, current temperature 58\n",
      "2024-07-22 15:07:31,814 - qm - INFO     - Compiling program\n",
      "2024-07-22 15:07:40,040 - qm - ERROR    - Failed: A mixer with the given frequencies wasn't found in the qm\n"
     ]
    },
    {
     "ename": "QMRequestError",
     "evalue": "Failed: A mixer with the given frequencies wasn't found in the qm",
     "output_type": "error",
     "traceback": [
      "\u001b[1;31m---------------------------------------------------------------------------\u001b[0m",
      "\u001b[1;31mQMRequestError\u001b[0m                            Traceback (most recent call last)",
      "Cell \u001b[1;32mIn[8], line 1\u001b[0m\n\u001b[1;32m----> 1\u001b[0m \u001b[43mmachine\u001b[49m\u001b[38;5;241;43m.\u001b[39;49m\u001b[43mqubits\u001b[49m\u001b[43m[\u001b[49m\u001b[38;5;124;43m\"\u001b[39;49m\u001b[38;5;124;43mq0\u001b[39;49m\u001b[38;5;124;43m\"\u001b[39;49m\u001b[43m]\u001b[49m\u001b[38;5;241;43m.\u001b[39;49m\u001b[43mcalibrate_drive_mixer\u001b[49m\u001b[43m(\u001b[49m\u001b[43m)\u001b[49m\n",
      "File \u001b[1;32mc:\\users\\drn455\\documents\\github\\squid-lab-quam\\squid_lab_quam\\components\\qubits.py:214\u001b[0m, in \u001b[0;36mScQubit.calibrate_drive_mixer\u001b[1;34m(self)\u001b[0m\n\u001b[0;32m    210\u001b[0m \u001b[38;5;28;01mif\u001b[39;00m \u001b[38;5;129;01mnot\u001b[39;00m \u001b[38;5;28misinstance\u001b[39m(\u001b[38;5;28mself\u001b[39m\u001b[38;5;241m.\u001b[39mxy\u001b[38;5;241m.\u001b[39mfrequency_converter_up, OctaveUpConverter):\n\u001b[0;32m    211\u001b[0m     \u001b[38;5;28;01mraise\u001b[39;00m \u001b[38;5;167;01mNotImplementedError\u001b[39;00m(\n\u001b[0;32m    212\u001b[0m         \u001b[38;5;124mf\u001b[39m\u001b[38;5;124m\"\u001b[39m\u001b[38;5;124mError: Drive mixer calibration only implemented with an octave up converter.\u001b[39m\u001b[38;5;124m\"\u001b[39m\n\u001b[0;32m    213\u001b[0m     )\n\u001b[1;32m--> 214\u001b[0m \u001b[38;5;28;43mself\u001b[39;49m\u001b[38;5;241;43m.\u001b[39;49m\u001b[43m_root\u001b[49m\u001b[38;5;241;43m.\u001b[39;49m\u001b[43mqm\u001b[49m\u001b[38;5;241;43m.\u001b[39;49m\u001b[43mcalibrate_element\u001b[49m\u001b[43m(\u001b[49m\u001b[38;5;28;43mself\u001b[39;49m\u001b[38;5;241;43m.\u001b[39;49m\u001b[43mxy\u001b[49m\u001b[38;5;241;43m.\u001b[39;49m\u001b[43mname\u001b[49m\u001b[43m)\u001b[49m\n",
      "File \u001b[1;32mc:\\Users\\drn455\\AppData\\Local\\anaconda3\\envs\\opx_control\\Lib\\site-packages\\qm\\QuantumMachine.py:394\u001b[0m, in \u001b[0;36mQuantumMachine.calibrate_element\u001b[1;34m(self, qe, lo_if_dict, save_to_db, params)\u001b[0m\n\u001b[0;32m    392\u001b[0m     \u001b[38;5;28;01mfor\u001b[39;00m if_freq, if_cal \u001b[38;5;129;01min\u001b[39;00m lo_cal\u001b[38;5;241m.\u001b[39mimage\u001b[38;5;241m.\u001b[39mitems():\n\u001b[0;32m    393\u001b[0m         fine_cal \u001b[38;5;241m=\u001b[39m if_cal\u001b[38;5;241m.\u001b[39mfine\n\u001b[1;32m--> 394\u001b[0m         \u001b[38;5;28;43mself\u001b[39;49m\u001b[38;5;241;43m.\u001b[39;49m\u001b[43mset_mixer_correction\u001b[49m\u001b[43m(\u001b[49m\n\u001b[0;32m    395\u001b[0m \u001b[43m            \u001b[49m\u001b[43mmixer\u001b[49m\u001b[38;5;241;43m=\u001b[39;49m\u001b[43minst\u001b[49m\u001b[38;5;241;43m.\u001b[39;49m\u001b[43minput\u001b[49m\u001b[38;5;241;43m.\u001b[39;49m\u001b[43mmixer\u001b[49m\u001b[43m,\u001b[49m\n\u001b[0;32m    396\u001b[0m \u001b[43m            \u001b[49m\u001b[43mintermediate_frequency\u001b[49m\u001b[38;5;241;43m=\u001b[39;49m\u001b[43mif_freq\u001b[49m\u001b[43m,\u001b[49m\n\u001b[0;32m    397\u001b[0m \u001b[43m            \u001b[49m\u001b[43mlo_frequency\u001b[49m\u001b[38;5;241;43m=\u001b[39;49m\u001b[43mlo_freq\u001b[49m\u001b[43m,\u001b[49m\n\u001b[0;32m    398\u001b[0m \u001b[43m            \u001b[49m\u001b[43mvalues\u001b[49m\u001b[38;5;241;43m=\u001b[39;49m\u001b[43mfine_cal\u001b[49m\u001b[38;5;241;43m.\u001b[39;49m\u001b[43mcorrection\u001b[49m\u001b[43m,\u001b[49m\n\u001b[0;32m    399\u001b[0m \u001b[43m        \u001b[49m\u001b[43m)\u001b[49m\n\u001b[0;32m    400\u001b[0m \u001b[38;5;28;01mreturn\u001b[39;00m res\n",
      "File \u001b[1;32mc:\\Users\\drn455\\AppData\\Local\\anaconda3\\envs\\opx_control\\Lib\\site-packages\\qm\\QuantumMachine.py:328\u001b[0m, in \u001b[0;36mQuantumMachine.set_mixer_correction\u001b[1;34m(self, mixer, intermediate_frequency, lo_frequency, values)\u001b[0m\n\u001b[0;32m    293\u001b[0m \u001b[38;5;28;01mdef\u001b[39;00m \u001b[38;5;21mset_mixer_correction\u001b[39m(\n\u001b[0;32m    294\u001b[0m     \u001b[38;5;28mself\u001b[39m,\n\u001b[0;32m    295\u001b[0m     mixer: \u001b[38;5;28mstr\u001b[39m,\n\u001b[1;32m   (...)\u001b[0m\n\u001b[0;32m    298\u001b[0m     values: Tuple[\u001b[38;5;28mfloat\u001b[39m, \u001b[38;5;28mfloat\u001b[39m, \u001b[38;5;28mfloat\u001b[39m, \u001b[38;5;28mfloat\u001b[39m],\n\u001b[0;32m    299\u001b[0m ) \u001b[38;5;241m-\u001b[39m\u001b[38;5;241m>\u001b[39m \u001b[38;5;28;01mNone\u001b[39;00m:\n\u001b[0;32m    300\u001b[0m \u001b[38;5;250m    \u001b[39m\u001b[38;5;124;03m\"\"\"Sets the correction matrix for correcting gain and phase imbalances\u001b[39;00m\n\u001b[0;32m    301\u001b[0m \u001b[38;5;124;03m    of an IQ mixer for the supplied intermediate frequency and LO frequency.\u001b[39;00m\n\u001b[0;32m    302\u001b[0m \n\u001b[1;32m   (...)\u001b[0m\n\u001b[0;32m    326\u001b[0m \u001b[38;5;124;03m        use job.set_element_correction\u001b[39;00m\n\u001b[0;32m    327\u001b[0m \u001b[38;5;124;03m    \"\"\"\u001b[39;00m\n\u001b[1;32m--> 328\u001b[0m     \u001b[43mstatic_set_mixer_correction\u001b[49m\u001b[43m(\u001b[49m\n\u001b[0;32m    329\u001b[0m \u001b[43m        \u001b[49m\u001b[38;5;28;43mself\u001b[39;49m\u001b[38;5;241;43m.\u001b[39;49m\u001b[43m_frontend\u001b[49m\u001b[43m,\u001b[49m\n\u001b[0;32m    330\u001b[0m \u001b[43m        \u001b[49m\u001b[38;5;28;43mself\u001b[39;49m\u001b[38;5;241;43m.\u001b[39;49m\u001b[43m_id\u001b[49m\u001b[43m,\u001b[49m\n\u001b[0;32m    331\u001b[0m \u001b[43m        \u001b[49m\u001b[43mmixer\u001b[49m\u001b[43m,\u001b[49m\n\u001b[0;32m    332\u001b[0m \u001b[43m        \u001b[49m\u001b[43mintermediate_frequency\u001b[49m\u001b[38;5;241;43m=\u001b[39;49m\u001b[43mintermediate_frequency\u001b[49m\u001b[43m,\u001b[49m\n\u001b[0;32m    333\u001b[0m \u001b[43m        \u001b[49m\u001b[43mlo_frequency\u001b[49m\u001b[38;5;241;43m=\u001b[39;49m\u001b[43mlo_frequency\u001b[49m\u001b[43m,\u001b[49m\n\u001b[0;32m    334\u001b[0m \u001b[43m        \u001b[49m\u001b[43mvalues\u001b[49m\u001b[38;5;241;43m=\u001b[39;49m\u001b[43mvalues\u001b[49m\u001b[43m,\u001b[49m\n\u001b[0;32m    335\u001b[0m \u001b[43m    \u001b[49m\u001b[43m)\u001b[49m\n",
      "File \u001b[1;32msrc/dependency_injector/_cwiring.pyx:28\u001b[0m, in \u001b[0;36mdependency_injector._cwiring._get_sync_patched._patched\u001b[1;34m()\u001b[0m\n",
      "File \u001b[1;32mc:\\Users\\drn455\\AppData\\Local\\anaconda3\\envs\\opx_control\\Lib\\site-packages\\qm\\elements\\element_inputs.py:89\u001b[0m, in \u001b[0;36mstatic_set_mixer_correction\u001b[1;34m(frontend_api, machine_id, mixer, intermediate_frequency, lo_frequency, values, capabilities)\u001b[0m\n\u001b[0;32m     79\u001b[0m     mixer_intermediate_frequency_double \u001b[38;5;241m=\u001b[39m \u001b[38;5;28mabs\u001b[39m(\u001b[38;5;28mfloat\u001b[39m(intermediate_frequency))\n\u001b[0;32m     81\u001b[0m mixer_info \u001b[38;5;241m=\u001b[39m MixerInfo(\n\u001b[0;32m     82\u001b[0m     mixer\u001b[38;5;241m=\u001b[39mmixer,\n\u001b[0;32m     83\u001b[0m     frequency_negative\u001b[38;5;241m=\u001b[39mintermediate_frequency \u001b[38;5;241m<\u001b[39m \u001b[38;5;241m0\u001b[39m,\n\u001b[1;32m   (...)\u001b[0m\n\u001b[0;32m     87\u001b[0m     intermediate_frequency_double\u001b[38;5;241m=\u001b[39mmixer_intermediate_frequency_double,\n\u001b[0;32m     88\u001b[0m )\n\u001b[1;32m---> 89\u001b[0m \u001b[43mfrontend_api\u001b[49m\u001b[38;5;241;43m.\u001b[39;49m\u001b[43mset_correction\u001b[49m\u001b[43m(\u001b[49m\u001b[43mmachine_id\u001b[49m\u001b[43m,\u001b[49m\u001b[43m \u001b[49m\u001b[43mmixer_info\u001b[49m\u001b[43m,\u001b[49m\u001b[43m \u001b[49m\u001b[43mcorrection_matrix\u001b[49m\u001b[43m)\u001b[49m\n",
      "File \u001b[1;32mc:\\Users\\drn455\\AppData\\Local\\anaconda3\\envs\\opx_control\\Lib\\site-packages\\qm\\api\\base_api.py:28\u001b[0m, in \u001b[0;36mconnection_error_handle_decorator.<locals>.wrapped\u001b[1;34m(*args, **kwargs)\u001b[0m\n\u001b[0;32m     25\u001b[0m \u001b[38;5;129m@functools\u001b[39m\u001b[38;5;241m.\u001b[39mwraps(func)\n\u001b[0;32m     26\u001b[0m \u001b[38;5;28;01mdef\u001b[39;00m \u001b[38;5;21mwrapped\u001b[39m(\u001b[38;5;241m*\u001b[39margs: P\u001b[38;5;241m.\u001b[39margs, \u001b[38;5;241m*\u001b[39m\u001b[38;5;241m*\u001b[39mkwargs: P\u001b[38;5;241m.\u001b[39mkwargs) \u001b[38;5;241m-\u001b[39m\u001b[38;5;241m>\u001b[39m Ret:\n\u001b[0;32m     27\u001b[0m     \u001b[38;5;28;01mtry\u001b[39;00m:\n\u001b[1;32m---> 28\u001b[0m         \u001b[38;5;28;01mreturn\u001b[39;00m \u001b[43mfunc\u001b[49m\u001b[43m(\u001b[49m\u001b[38;5;241;43m*\u001b[39;49m\u001b[43margs\u001b[49m\u001b[43m,\u001b[49m\u001b[43m \u001b[49m\u001b[38;5;241;43m*\u001b[39;49m\u001b[38;5;241;43m*\u001b[39;49m\u001b[43mkwargs\u001b[49m\u001b[43m)\u001b[49m\n\u001b[0;32m     29\u001b[0m     \u001b[38;5;28;01mexcept\u001b[39;00m grpclib\u001b[38;5;241m.\u001b[39mexceptions\u001b[38;5;241m.\u001b[39mGRPCError \u001b[38;5;28;01mas\u001b[39;00m e:\n\u001b[0;32m     30\u001b[0m         \u001b[38;5;28;01mif\u001b[39;00m is_debug():\n",
      "File \u001b[1;32mc:\\Users\\drn455\\AppData\\Local\\anaconda3\\envs\\opx_control\\Lib\\site-packages\\qm\\api\\frontend_api.py:296\u001b[0m, in \u001b[0;36mFrontendApi.set_correction\u001b[1;34m(self, machine_id, mixer, correction)\u001b[0m\n\u001b[0;32m    283\u001b[0m correction_request \u001b[38;5;241m=\u001b[39m HighQmApiRequestSetCorrection(\n\u001b[0;32m    284\u001b[0m     mixer\u001b[38;5;241m=\u001b[39mHighQmApiRequestSetCorrectionMixerInfo(\n\u001b[0;32m    285\u001b[0m         mixer\u001b[38;5;241m=\u001b[39mmixer\u001b[38;5;241m.\u001b[39mmixer,\n\u001b[1;32m   (...)\u001b[0m\n\u001b[0;32m    293\u001b[0m     \u001b[38;5;66;03m# although they are the same...\u001b[39;00m\n\u001b[0;32m    294\u001b[0m )\n\u001b[0;32m    295\u001b[0m request \u001b[38;5;241m=\u001b[39m HighQmApiRequest(quantum_machine_id\u001b[38;5;241m=\u001b[39mmachine_id, set_correction\u001b[38;5;241m=\u001b[39mcorrection_request)\n\u001b[1;32m--> 296\u001b[0m \u001b[38;5;28;43mself\u001b[39;49m\u001b[38;5;241;43m.\u001b[39;49m\u001b[43m_perform_qm_request\u001b[49m\u001b[43m(\u001b[49m\u001b[43mrequest\u001b[49m\u001b[43m)\u001b[49m\n",
      "File \u001b[1;32mc:\\Users\\drn455\\AppData\\Local\\anaconda3\\envs\\opx_control\\Lib\\site-packages\\qm\\api\\base_api.py:28\u001b[0m, in \u001b[0;36mconnection_error_handle_decorator.<locals>.wrapped\u001b[1;34m(*args, **kwargs)\u001b[0m\n\u001b[0;32m     25\u001b[0m \u001b[38;5;129m@functools\u001b[39m\u001b[38;5;241m.\u001b[39mwraps(func)\n\u001b[0;32m     26\u001b[0m \u001b[38;5;28;01mdef\u001b[39;00m \u001b[38;5;21mwrapped\u001b[39m(\u001b[38;5;241m*\u001b[39margs: P\u001b[38;5;241m.\u001b[39margs, \u001b[38;5;241m*\u001b[39m\u001b[38;5;241m*\u001b[39mkwargs: P\u001b[38;5;241m.\u001b[39mkwargs) \u001b[38;5;241m-\u001b[39m\u001b[38;5;241m>\u001b[39m Ret:\n\u001b[0;32m     27\u001b[0m     \u001b[38;5;28;01mtry\u001b[39;00m:\n\u001b[1;32m---> 28\u001b[0m         \u001b[38;5;28;01mreturn\u001b[39;00m \u001b[43mfunc\u001b[49m\u001b[43m(\u001b[49m\u001b[38;5;241;43m*\u001b[39;49m\u001b[43margs\u001b[49m\u001b[43m,\u001b[49m\u001b[43m \u001b[49m\u001b[38;5;241;43m*\u001b[39;49m\u001b[38;5;241;43m*\u001b[39;49m\u001b[43mkwargs\u001b[49m\u001b[43m)\u001b[49m\n\u001b[0;32m     29\u001b[0m     \u001b[38;5;28;01mexcept\u001b[39;00m grpclib\u001b[38;5;241m.\u001b[39mexceptions\u001b[38;5;241m.\u001b[39mGRPCError \u001b[38;5;28;01mas\u001b[39;00m e:\n\u001b[0;32m     30\u001b[0m         \u001b[38;5;28;01mif\u001b[39;00m is_debug():\n",
      "File \u001b[1;32mc:\\Users\\drn455\\AppData\\Local\\anaconda3\\envs\\opx_control\\Lib\\site-packages\\qm\\api\\frontend_api.py:280\u001b[0m, in \u001b[0;36mFrontendApi._perform_qm_request\u001b[1;34m(self, request)\u001b[0m\n\u001b[0;32m    278\u001b[0m error_message \u001b[38;5;241m=\u001b[39m \u001b[38;5;124m\"\u001b[39m\u001b[38;5;130;01m\\n\u001b[39;00m\u001b[38;5;124m\"\u001b[39m\u001b[38;5;241m.\u001b[39mjoin(it\u001b[38;5;241m.\u001b[39mmessage \u001b[38;5;28;01mfor\u001b[39;00m it \u001b[38;5;129;01min\u001b[39;00m response\u001b[38;5;241m.\u001b[39merrors)\n\u001b[0;32m    279\u001b[0m logger\u001b[38;5;241m.\u001b[39merror(\u001b[38;5;124mf\u001b[39m\u001b[38;5;124m\"\u001b[39m\u001b[38;5;124mFailed: \u001b[39m\u001b[38;5;132;01m{\u001b[39;00merror_message\u001b[38;5;132;01m}\u001b[39;00m\u001b[38;5;124m\"\u001b[39m)\n\u001b[1;32m--> 280\u001b[0m \u001b[38;5;28;01mraise\u001b[39;00m QMRequestError(\u001b[38;5;124mf\u001b[39m\u001b[38;5;124m\"\u001b[39m\u001b[38;5;124mFailed: \u001b[39m\u001b[38;5;132;01m{\u001b[39;00merror_message\u001b[38;5;132;01m}\u001b[39;00m\u001b[38;5;124m\"\u001b[39m)\n",
      "\u001b[1;31mQMRequestError\u001b[0m: Failed: A mixer with the given frequencies wasn't found in the qm"
     ]
    }
   ],
   "source": [
    "machine.qubits[\"q0\"].calibrate_drive_mixer()"
   ]
  },
  {
   "cell_type": "code",
   "execution_count": null,
   "metadata": {},
   "outputs": [
    {
     "name": "stdout",
     "output_type": "stream",
     "text": [
      "2024-07-22 15:08:19,367 - qm - INFO     - Compiling program\n",
      "2024-07-22 15:08:23,522 - qm - ERROR    - Runtime errors were detected. Please fetch the execution report using job.execution_report() for more information\n",
      "2024-07-22 15:08:23,634 - qm - ERROR    - Runtime errors were detected. Please fetch the execution report using job.execution_report() for more information\n",
      "2024-07-22 15:08:23,703 - qm - ERROR    - Runtime errors were detected. Please fetch the execution report using job.execution_report() for more information\n",
      "2024-07-22 15:08:23,755 - qm - ERROR    - Runtime errors were detected. Please fetch the execution report using job.execution_report() for more information\n",
      "2024-07-22 15:08:23,768 - qm - ERROR    - Runtime errors were detected. Please fetch the execution report using job.execution_report() for more information\n",
      "2024-07-22 15:08:23,812 - qm - ERROR    - Runtime errors were detected. Please fetch the execution report using job.execution_report() for more information\n",
      "2024-07-22 15:08:23,837 - qm - ERROR    - Runtime errors were detected. Please fetch the execution report using job.execution_report() for more information\n",
      "2024-07-22 15:08:25,651 - qm - ERROR    - Failed: A mixer with the given frequencies wasn't found in the qm\n"
     ]
    },
    {
     "ename": "QMRequestError",
     "evalue": "Failed: A mixer with the given frequencies wasn't found in the qm",
     "output_type": "error",
     "traceback": [
      "\u001b[1;31m---------------------------------------------------------------------------\u001b[0m",
      "\u001b[1;31mQMRequestError\u001b[0m                            Traceback (most recent call last)",
      "Cell \u001b[1;32mIn[9], line 1\u001b[0m\n\u001b[1;32m----> 1\u001b[0m \u001b[43mmachine\u001b[49m\u001b[38;5;241;43m.\u001b[39;49m\u001b[43mqm\u001b[49m\u001b[38;5;241;43m.\u001b[39;49m\u001b[43mcalibrate_element\u001b[49m\u001b[43m(\u001b[49m\u001b[38;5;124;43m\"\u001b[39;49m\u001b[38;5;124;43mq0.xy\u001b[39;49m\u001b[38;5;124;43m\"\u001b[39;49m\u001b[43m)\u001b[49m\n",
      "File \u001b[1;32mc:\\Users\\drn455\\AppData\\Local\\anaconda3\\envs\\opx_control\\Lib\\site-packages\\qm\\QuantumMachine.py:394\u001b[0m, in \u001b[0;36mQuantumMachine.calibrate_element\u001b[1;34m(self, qe, lo_if_dict, save_to_db, params)\u001b[0m\n\u001b[0;32m    392\u001b[0m     \u001b[38;5;28;01mfor\u001b[39;00m if_freq, if_cal \u001b[38;5;129;01min\u001b[39;00m lo_cal\u001b[38;5;241m.\u001b[39mimage\u001b[38;5;241m.\u001b[39mitems():\n\u001b[0;32m    393\u001b[0m         fine_cal \u001b[38;5;241m=\u001b[39m if_cal\u001b[38;5;241m.\u001b[39mfine\n\u001b[1;32m--> 394\u001b[0m         \u001b[38;5;28;43mself\u001b[39;49m\u001b[38;5;241;43m.\u001b[39;49m\u001b[43mset_mixer_correction\u001b[49m\u001b[43m(\u001b[49m\n\u001b[0;32m    395\u001b[0m \u001b[43m            \u001b[49m\u001b[43mmixer\u001b[49m\u001b[38;5;241;43m=\u001b[39;49m\u001b[43minst\u001b[49m\u001b[38;5;241;43m.\u001b[39;49m\u001b[43minput\u001b[49m\u001b[38;5;241;43m.\u001b[39;49m\u001b[43mmixer\u001b[49m\u001b[43m,\u001b[49m\n\u001b[0;32m    396\u001b[0m \u001b[43m            \u001b[49m\u001b[43mintermediate_frequency\u001b[49m\u001b[38;5;241;43m=\u001b[39;49m\u001b[43mif_freq\u001b[49m\u001b[43m,\u001b[49m\n\u001b[0;32m    397\u001b[0m \u001b[43m            \u001b[49m\u001b[43mlo_frequency\u001b[49m\u001b[38;5;241;43m=\u001b[39;49m\u001b[43mlo_freq\u001b[49m\u001b[43m,\u001b[49m\n\u001b[0;32m    398\u001b[0m \u001b[43m            \u001b[49m\u001b[43mvalues\u001b[49m\u001b[38;5;241;43m=\u001b[39;49m\u001b[43mfine_cal\u001b[49m\u001b[38;5;241;43m.\u001b[39;49m\u001b[43mcorrection\u001b[49m\u001b[43m,\u001b[49m\n\u001b[0;32m    399\u001b[0m \u001b[43m        \u001b[49m\u001b[43m)\u001b[49m\n\u001b[0;32m    400\u001b[0m \u001b[38;5;28;01mreturn\u001b[39;00m res\n",
      "File \u001b[1;32mc:\\Users\\drn455\\AppData\\Local\\anaconda3\\envs\\opx_control\\Lib\\site-packages\\qm\\QuantumMachine.py:328\u001b[0m, in \u001b[0;36mQuantumMachine.set_mixer_correction\u001b[1;34m(self, mixer, intermediate_frequency, lo_frequency, values)\u001b[0m\n\u001b[0;32m    293\u001b[0m \u001b[38;5;28;01mdef\u001b[39;00m \u001b[38;5;21mset_mixer_correction\u001b[39m(\n\u001b[0;32m    294\u001b[0m     \u001b[38;5;28mself\u001b[39m,\n\u001b[0;32m    295\u001b[0m     mixer: \u001b[38;5;28mstr\u001b[39m,\n\u001b[1;32m   (...)\u001b[0m\n\u001b[0;32m    298\u001b[0m     values: Tuple[\u001b[38;5;28mfloat\u001b[39m, \u001b[38;5;28mfloat\u001b[39m, \u001b[38;5;28mfloat\u001b[39m, \u001b[38;5;28mfloat\u001b[39m],\n\u001b[0;32m    299\u001b[0m ) \u001b[38;5;241m-\u001b[39m\u001b[38;5;241m>\u001b[39m \u001b[38;5;28;01mNone\u001b[39;00m:\n\u001b[0;32m    300\u001b[0m \u001b[38;5;250m    \u001b[39m\u001b[38;5;124;03m\"\"\"Sets the correction matrix for correcting gain and phase imbalances\u001b[39;00m\n\u001b[0;32m    301\u001b[0m \u001b[38;5;124;03m    of an IQ mixer for the supplied intermediate frequency and LO frequency.\u001b[39;00m\n\u001b[0;32m    302\u001b[0m \n\u001b[1;32m   (...)\u001b[0m\n\u001b[0;32m    326\u001b[0m \u001b[38;5;124;03m        use job.set_element_correction\u001b[39;00m\n\u001b[0;32m    327\u001b[0m \u001b[38;5;124;03m    \"\"\"\u001b[39;00m\n\u001b[1;32m--> 328\u001b[0m     \u001b[43mstatic_set_mixer_correction\u001b[49m\u001b[43m(\u001b[49m\n\u001b[0;32m    329\u001b[0m \u001b[43m        \u001b[49m\u001b[38;5;28;43mself\u001b[39;49m\u001b[38;5;241;43m.\u001b[39;49m\u001b[43m_frontend\u001b[49m\u001b[43m,\u001b[49m\n\u001b[0;32m    330\u001b[0m \u001b[43m        \u001b[49m\u001b[38;5;28;43mself\u001b[39;49m\u001b[38;5;241;43m.\u001b[39;49m\u001b[43m_id\u001b[49m\u001b[43m,\u001b[49m\n\u001b[0;32m    331\u001b[0m \u001b[43m        \u001b[49m\u001b[43mmixer\u001b[49m\u001b[43m,\u001b[49m\n\u001b[0;32m    332\u001b[0m \u001b[43m        \u001b[49m\u001b[43mintermediate_frequency\u001b[49m\u001b[38;5;241;43m=\u001b[39;49m\u001b[43mintermediate_frequency\u001b[49m\u001b[43m,\u001b[49m\n\u001b[0;32m    333\u001b[0m \u001b[43m        \u001b[49m\u001b[43mlo_frequency\u001b[49m\u001b[38;5;241;43m=\u001b[39;49m\u001b[43mlo_frequency\u001b[49m\u001b[43m,\u001b[49m\n\u001b[0;32m    334\u001b[0m \u001b[43m        \u001b[49m\u001b[43mvalues\u001b[49m\u001b[38;5;241;43m=\u001b[39;49m\u001b[43mvalues\u001b[49m\u001b[43m,\u001b[49m\n\u001b[0;32m    335\u001b[0m \u001b[43m    \u001b[49m\u001b[43m)\u001b[49m\n",
      "File \u001b[1;32msrc/dependency_injector/_cwiring.pyx:28\u001b[0m, in \u001b[0;36mdependency_injector._cwiring._get_sync_patched._patched\u001b[1;34m()\u001b[0m\n",
      "File \u001b[1;32mc:\\Users\\drn455\\AppData\\Local\\anaconda3\\envs\\opx_control\\Lib\\site-packages\\qm\\elements\\element_inputs.py:89\u001b[0m, in \u001b[0;36mstatic_set_mixer_correction\u001b[1;34m(frontend_api, machine_id, mixer, intermediate_frequency, lo_frequency, values, capabilities)\u001b[0m\n\u001b[0;32m     79\u001b[0m     mixer_intermediate_frequency_double \u001b[38;5;241m=\u001b[39m \u001b[38;5;28mabs\u001b[39m(\u001b[38;5;28mfloat\u001b[39m(intermediate_frequency))\n\u001b[0;32m     81\u001b[0m mixer_info \u001b[38;5;241m=\u001b[39m MixerInfo(\n\u001b[0;32m     82\u001b[0m     mixer\u001b[38;5;241m=\u001b[39mmixer,\n\u001b[0;32m     83\u001b[0m     frequency_negative\u001b[38;5;241m=\u001b[39mintermediate_frequency \u001b[38;5;241m<\u001b[39m \u001b[38;5;241m0\u001b[39m,\n\u001b[1;32m   (...)\u001b[0m\n\u001b[0;32m     87\u001b[0m     intermediate_frequency_double\u001b[38;5;241m=\u001b[39mmixer_intermediate_frequency_double,\n\u001b[0;32m     88\u001b[0m )\n\u001b[1;32m---> 89\u001b[0m \u001b[43mfrontend_api\u001b[49m\u001b[38;5;241;43m.\u001b[39;49m\u001b[43mset_correction\u001b[49m\u001b[43m(\u001b[49m\u001b[43mmachine_id\u001b[49m\u001b[43m,\u001b[49m\u001b[43m \u001b[49m\u001b[43mmixer_info\u001b[49m\u001b[43m,\u001b[49m\u001b[43m \u001b[49m\u001b[43mcorrection_matrix\u001b[49m\u001b[43m)\u001b[49m\n",
      "File \u001b[1;32mc:\\Users\\drn455\\AppData\\Local\\anaconda3\\envs\\opx_control\\Lib\\site-packages\\qm\\api\\base_api.py:28\u001b[0m, in \u001b[0;36mconnection_error_handle_decorator.<locals>.wrapped\u001b[1;34m(*args, **kwargs)\u001b[0m\n\u001b[0;32m     25\u001b[0m \u001b[38;5;129m@functools\u001b[39m\u001b[38;5;241m.\u001b[39mwraps(func)\n\u001b[0;32m     26\u001b[0m \u001b[38;5;28;01mdef\u001b[39;00m \u001b[38;5;21mwrapped\u001b[39m(\u001b[38;5;241m*\u001b[39margs: P\u001b[38;5;241m.\u001b[39margs, \u001b[38;5;241m*\u001b[39m\u001b[38;5;241m*\u001b[39mkwargs: P\u001b[38;5;241m.\u001b[39mkwargs) \u001b[38;5;241m-\u001b[39m\u001b[38;5;241m>\u001b[39m Ret:\n\u001b[0;32m     27\u001b[0m     \u001b[38;5;28;01mtry\u001b[39;00m:\n\u001b[1;32m---> 28\u001b[0m         \u001b[38;5;28;01mreturn\u001b[39;00m \u001b[43mfunc\u001b[49m\u001b[43m(\u001b[49m\u001b[38;5;241;43m*\u001b[39;49m\u001b[43margs\u001b[49m\u001b[43m,\u001b[49m\u001b[43m \u001b[49m\u001b[38;5;241;43m*\u001b[39;49m\u001b[38;5;241;43m*\u001b[39;49m\u001b[43mkwargs\u001b[49m\u001b[43m)\u001b[49m\n\u001b[0;32m     29\u001b[0m     \u001b[38;5;28;01mexcept\u001b[39;00m grpclib\u001b[38;5;241m.\u001b[39mexceptions\u001b[38;5;241m.\u001b[39mGRPCError \u001b[38;5;28;01mas\u001b[39;00m e:\n\u001b[0;32m     30\u001b[0m         \u001b[38;5;28;01mif\u001b[39;00m is_debug():\n",
      "File \u001b[1;32mc:\\Users\\drn455\\AppData\\Local\\anaconda3\\envs\\opx_control\\Lib\\site-packages\\qm\\api\\frontend_api.py:296\u001b[0m, in \u001b[0;36mFrontendApi.set_correction\u001b[1;34m(self, machine_id, mixer, correction)\u001b[0m\n\u001b[0;32m    283\u001b[0m correction_request \u001b[38;5;241m=\u001b[39m HighQmApiRequestSetCorrection(\n\u001b[0;32m    284\u001b[0m     mixer\u001b[38;5;241m=\u001b[39mHighQmApiRequestSetCorrectionMixerInfo(\n\u001b[0;32m    285\u001b[0m         mixer\u001b[38;5;241m=\u001b[39mmixer\u001b[38;5;241m.\u001b[39mmixer,\n\u001b[1;32m   (...)\u001b[0m\n\u001b[0;32m    293\u001b[0m     \u001b[38;5;66;03m# although they are the same...\u001b[39;00m\n\u001b[0;32m    294\u001b[0m )\n\u001b[0;32m    295\u001b[0m request \u001b[38;5;241m=\u001b[39m HighQmApiRequest(quantum_machine_id\u001b[38;5;241m=\u001b[39mmachine_id, set_correction\u001b[38;5;241m=\u001b[39mcorrection_request)\n\u001b[1;32m--> 296\u001b[0m \u001b[38;5;28;43mself\u001b[39;49m\u001b[38;5;241;43m.\u001b[39;49m\u001b[43m_perform_qm_request\u001b[49m\u001b[43m(\u001b[49m\u001b[43mrequest\u001b[49m\u001b[43m)\u001b[49m\n",
      "File \u001b[1;32mc:\\Users\\drn455\\AppData\\Local\\anaconda3\\envs\\opx_control\\Lib\\site-packages\\qm\\api\\base_api.py:28\u001b[0m, in \u001b[0;36mconnection_error_handle_decorator.<locals>.wrapped\u001b[1;34m(*args, **kwargs)\u001b[0m\n\u001b[0;32m     25\u001b[0m \u001b[38;5;129m@functools\u001b[39m\u001b[38;5;241m.\u001b[39mwraps(func)\n\u001b[0;32m     26\u001b[0m \u001b[38;5;28;01mdef\u001b[39;00m \u001b[38;5;21mwrapped\u001b[39m(\u001b[38;5;241m*\u001b[39margs: P\u001b[38;5;241m.\u001b[39margs, \u001b[38;5;241m*\u001b[39m\u001b[38;5;241m*\u001b[39mkwargs: P\u001b[38;5;241m.\u001b[39mkwargs) \u001b[38;5;241m-\u001b[39m\u001b[38;5;241m>\u001b[39m Ret:\n\u001b[0;32m     27\u001b[0m     \u001b[38;5;28;01mtry\u001b[39;00m:\n\u001b[1;32m---> 28\u001b[0m         \u001b[38;5;28;01mreturn\u001b[39;00m \u001b[43mfunc\u001b[49m\u001b[43m(\u001b[49m\u001b[38;5;241;43m*\u001b[39;49m\u001b[43margs\u001b[49m\u001b[43m,\u001b[49m\u001b[43m \u001b[49m\u001b[38;5;241;43m*\u001b[39;49m\u001b[38;5;241;43m*\u001b[39;49m\u001b[43mkwargs\u001b[49m\u001b[43m)\u001b[49m\n\u001b[0;32m     29\u001b[0m     \u001b[38;5;28;01mexcept\u001b[39;00m grpclib\u001b[38;5;241m.\u001b[39mexceptions\u001b[38;5;241m.\u001b[39mGRPCError \u001b[38;5;28;01mas\u001b[39;00m e:\n\u001b[0;32m     30\u001b[0m         \u001b[38;5;28;01mif\u001b[39;00m is_debug():\n",
      "File \u001b[1;32mc:\\Users\\drn455\\AppData\\Local\\anaconda3\\envs\\opx_control\\Lib\\site-packages\\qm\\api\\frontend_api.py:280\u001b[0m, in \u001b[0;36mFrontendApi._perform_qm_request\u001b[1;34m(self, request)\u001b[0m\n\u001b[0;32m    278\u001b[0m error_message \u001b[38;5;241m=\u001b[39m \u001b[38;5;124m\"\u001b[39m\u001b[38;5;130;01m\\n\u001b[39;00m\u001b[38;5;124m\"\u001b[39m\u001b[38;5;241m.\u001b[39mjoin(it\u001b[38;5;241m.\u001b[39mmessage \u001b[38;5;28;01mfor\u001b[39;00m it \u001b[38;5;129;01min\u001b[39;00m response\u001b[38;5;241m.\u001b[39merrors)\n\u001b[0;32m    279\u001b[0m logger\u001b[38;5;241m.\u001b[39merror(\u001b[38;5;124mf\u001b[39m\u001b[38;5;124m\"\u001b[39m\u001b[38;5;124mFailed: \u001b[39m\u001b[38;5;132;01m{\u001b[39;00merror_message\u001b[38;5;132;01m}\u001b[39;00m\u001b[38;5;124m\"\u001b[39m)\n\u001b[1;32m--> 280\u001b[0m \u001b[38;5;28;01mraise\u001b[39;00m QMRequestError(\u001b[38;5;124mf\u001b[39m\u001b[38;5;124m\"\u001b[39m\u001b[38;5;124mFailed: \u001b[39m\u001b[38;5;132;01m{\u001b[39;00merror_message\u001b[38;5;132;01m}\u001b[39;00m\u001b[38;5;124m\"\u001b[39m)\n",
      "\u001b[1;31mQMRequestError\u001b[0m: Failed: A mixer with the given frequencies wasn't found in the qm"
     ]
    }
   ],
   "source": [
    "machine.qm.calibrate_element(\"q0.xy\")"
   ]
  },
  {
   "cell_type": "code",
   "execution_count": null,
   "metadata": {},
   "outputs": [],
   "source": []
  }
 ],
 "metadata": {
  "kernelspec": {
   "display_name": "opx_control",
   "language": "python",
   "name": "python3"
  },
  "language_info": {
   "codemirror_mode": {
    "name": "ipython",
    "version": 3
   },
   "file_extension": ".py",
   "mimetype": "text/x-python",
   "name": "python",
   "nbconvert_exporter": "python",
   "pygments_lexer": "ipython3",
   "version": "3.11.9"
  }
 },
 "nbformat": 4,
 "nbformat_minor": 2
}
