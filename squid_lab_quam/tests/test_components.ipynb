{
 "cells": [
  {
   "cell_type": "code",
   "execution_count": 1,
   "metadata": {},
   "outputs": [
    {
     "name": "stdout",
     "output_type": "stream",
     "text": [
      "C:\\Users\\MESO 1\\Documents\\GitHub\\SQuID-Lab-quam\n"
     ]
    }
   ],
   "source": [
    "cd C:\\Users\\MESO 1\\Documents\\GitHub\\SQuID-Lab-quam"
   ]
  },
  {
   "cell_type": "code",
   "execution_count": 3,
   "metadata": {},
   "outputs": [],
   "source": [
    "from squid_lab_quam.components.roots import QuAMSCQ1\n",
    "\n",
    "machine = QuAMSCQ1()"
   ]
  },
  {
   "cell_type": "code",
   "execution_count": 4,
   "metadata": {},
   "outputs": [],
   "source": [
    "from squid_lab_quam.components.network import OPXNetwork, OctaveNetwork\n",
    "\n",
    "network = OPXNetwork(\n",
    "    host=\"10.209.67.168\",\n",
    "    cluster_name=\"Cluster_1\",\n",
    "    octave_networks={\n",
    "        \"octave1\": OctaveNetwork(\n",
    "            octave_host=\"10.209.67.174\", octave_port=80, controller=\"con1\"\n",
    "        )\n",
    "    },\n",
    ")"
   ]
  },
  {
   "cell_type": "code",
   "execution_count": 10,
   "metadata": {},
   "outputs": [
    {
     "name": "stdout",
     "output_type": "stream",
     "text": [
      "User name: \u001b[1mJacob Hastrup (drn455)\u001b[0m\n",
      "Device name: \u001b[1mChalmers/5q4_v0\u001b[0m\n",
      "Fridge name: \u001b[1mmeso\u001b[0m\n"
     ]
    }
   ],
   "source": [
    "from squid_lab_quam.components.information import Information\n",
    "\n",
    "information = Information(\n",
    "    user_name=\"Jacob Hastrup\",\n",
    "    user_ku_tag=\"drn455\",\n",
    "    device_name=\"Chalmers/5q4_v0\",\n",
    "    fridge_name=\"meso\",\n",
    "    data_path=r\"\\\\unicph.domain\\groupdir\\SCI-NBI-QDev\\SQuID Lab Data\\Devices\\Chalmers 5q4c v1.1\\OPX Data\",\n",
    "    state_path=r\"C:\\Users\\MESO 1\\Documents\\GitHub\\SQuID-Lab-quam\\squid_lab_quam\\tests\",\n",
    ")\n",
    "\n",
    "information.print_info()"
   ]
  },
  {
   "cell_type": "code",
   "execution_count": 6,
   "metadata": {},
   "outputs": [],
   "source": [
    "from squid_lab_quam.components.wiring import (\n",
    "    OPXWiring,\n",
    "    OPXFeedLineWiring,\n",
    "    OPXIQChannelWiring,\n",
    ")\n",
    "\n",
    "wiring = OPXWiring(\n",
    "    drive_lines={\n",
    "        \"q0\": OPXIQChannelWiring(\n",
    "            port_I=(\"con1\", 0),\n",
    "            port_Q=(\"con1\", 0),\n",
    "        ),\n",
    "        \"q1\": OPXIQChannelWiring(\n",
    "            port_I=(\"con1\", 0),\n",
    "            port_Q=(\"con1\", 0),\n",
    "        ),\n",
    "        \"q2\": OPXIQChannelWiring(\n",
    "            port_I=(\"con1\", 0),\n",
    "            port_Q=(\"con1\", 0),\n",
    "        ),\n",
    "        \"q3\": OPXIQChannelWiring(\n",
    "            port_I=(\"con1\", 0),\n",
    "            port_Q=(\"con1\", 0),\n",
    "        ),\n",
    "        \"q4\": OPXIQChannelWiring(\n",
    "            port_I=(\"con1\", 0),\n",
    "            port_Q=(\"con1\", 0),\n",
    "        ),\n",
    "    },\n",
    "    feed_lines={\n",
    "        \"feedline\": OPXFeedLineWiring(\n",
    "            output_I=(\"con1\", 0),\n",
    "            output_Q=(\"con1\", 0),\n",
    "            input_I=(\"con1\", 0),\n",
    "            input_Q=(\"con1\", 0),\n",
    "        )\n",
    "    },\n",
    ")"
   ]
  },
  {
   "cell_type": "code",
   "execution_count": 5,
   "metadata": {},
   "outputs": [
    {
     "data": {
      "text/plain": [
       "OPXNetwork(host='10.209.67.168', cluster_name='Cluster_1', octave_networks={'octave1': OctaveNetwork(octave_host='10.209.67.174', octave_port=80, controller='con1')})"
      ]
     },
     "execution_count": 5,
     "metadata": {},
     "output_type": "execute_result"
    }
   ],
   "source": [
    "from squid_lab_quam.components.qubits import Transmon\n",
    "from quam.components.channels import IQChannel\n",
    "\n",
    "qubit_names = [\"q0\", \"q1\", \"q2\", \"q3\", \"q4\"]\n",
    "\n",
    "qubits = {}\n",
    "\n",
    "for qubit in qubit_names:\n",
    "    qubits[qubit] = Transmon(\n",
    "        xy=IQChannel(\n",
    "            opx_output_I=f\"#/wiring/drive_lines/{qubit}/port_I\",\n",
    "            opx_output_Q=f\"#/wiring/drive_lines/{qubit}/port_Q\",\n",
    "        )\n",
    "    )"
   ]
  },
  {
   "cell_type": "code",
   "execution_count": null,
   "metadata": {},
   "outputs": [],
   "source": []
  }
 ],
 "metadata": {
  "kernelspec": {
   "display_name": "quam_test2",
   "language": "python",
   "name": "python3"
  },
  "language_info": {
   "codemirror_mode": {
    "name": "ipython",
    "version": 3
   },
   "file_extension": ".py",
   "mimetype": "text/x-python",
   "name": "python",
   "nbconvert_exporter": "python",
   "pygments_lexer": "ipython3",
   "version": "3.11.9"
  }
 },
 "nbformat": 4,
 "nbformat_minor": 2
}
