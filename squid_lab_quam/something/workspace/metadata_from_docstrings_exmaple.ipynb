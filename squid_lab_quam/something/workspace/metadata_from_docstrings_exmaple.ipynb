{
 "cells": [
  {
   "cell_type": "markdown",
   "metadata": {},
   "source": [
    "# Metadata from Docstrings Example\n",
    "\n",
    "This notebook demonstrates how to extract and utilize metadata from docstrings in Python. We'll explore a simple example that combines docstrings from a class hierarchy using 'get_metadat_of_class'"
   ]
  },
  {
   "cell_type": "code",
   "execution_count": 8,
   "metadata": {},
   "outputs": [],
   "source": [
    "# Import necessary functions\n",
    "from squid_lab_quam.tests.workspace.metadata_from_docstrings import get_metadata_of_class\n",
    "from pprint import pprint"
   ]
  },
  {
   "cell_type": "markdown",
   "metadata": {},
   "source": [
    "#### Defining examples parrent class"
   ]
  },
  {
   "cell_type": "code",
   "execution_count": 9,
   "metadata": {},
   "outputs": [],
   "source": [
    "class Parrent1:\n",
    "    def __init__(self, a, b=2):\n",
    "        \"\"\"Parrent 1 docstring.\n",
    "\n",
    "        Args:\n",
    "            a: Long name; Parrent 1 docstring for a [s].\n",
    "            b (int, optional): Parrent 1 docstring for b. Defaults to 2.\n",
    "        \"\"\"\n",
    "        self.a = a\n",
    "        self.b = b"
   ]
  },
  {
   "cell_type": "code",
   "execution_count": 10,
   "metadata": {},
   "outputs": [],
   "source": [
    "class Parrent2:\n",
    "    def __init__(self, a, b=2):\n",
    "        \"\"\"Parrent 2 docstring.\n",
    "\n",
    "        Args:\n",
    "            a: Parrent 2 docstring for a [s].\n",
    "            b (int, optional): Parrent 2 docstring for b. Defaults to 2.\n",
    "        \"\"\"\n",
    "        self.a = a\n",
    "        self.b = b"
   ]
  },
  {
   "cell_type": "code",
   "execution_count": 11,
   "metadata": {},
   "outputs": [],
   "source": [
    "class Child(Parrent2, Parrent1):\n",
    "    def __init__(self, a, c=3, **kwargs):\n",
    "        \"\"\"Child docstring.\n",
    "\n",
    "        Args:\n",
    "            a: Long name; Child docstring for a [s].\n",
    "            c (int, optional): Child docstring for c. Defaults to 3.\n",
    "        \"\"\"\n",
    "        super().__init__(a, **kwargs)\n",
    "        self.c = c"
   ]
  },
  {
   "cell_type": "code",
   "execution_count": 12,
   "metadata": {},
   "outputs": [
    {
     "name": "stdout",
     "output_type": "stream",
     "text": [
      "{'a': {'arg_name': 'a',\n",
      "       'description': 'Child docstring for a [s].',\n",
      "       'long_name': 'Long name',\n",
      "       'type': None,\n",
      "       'unit': 's'},\n",
      " 'b': {'arg_name': 'b',\n",
      "       'description': 'Parrent 2 docstring for b. Defaults to 2.',\n",
      "       'long_name': None,\n",
      "       'type': 'int',\n",
      "       'unit': None},\n",
      " 'c': {'arg_name': 'c',\n",
      "       'description': 'Child docstring for c. Defaults to 3.',\n",
      "       'long_name': None,\n",
      "       'type': 'int',\n",
      "       'unit': None}}\n"
     ]
    }
   ],
   "source": [
    "doc = get_metadata_of_class(Child)\n",
    "pprint(doc)"
   ]
  },
  {
   "cell_type": "code",
   "execution_count": 13,
   "metadata": {},
   "outputs": [],
   "source": [
    "# Example usage QuAM component\n",
    "from squid_lab_quam.components.qubits import FluxtunebleTransmon, ScQubit"
   ]
  },
  {
   "cell_type": "code",
   "execution_count": 14,
   "metadata": {},
   "outputs": [
    {
     "name": "stdout",
     "output_type": "stream",
     "text": [
      "{'T1': {'arg_name': 'T1',\n",
      "        'description': 'The qubit decay rate in seconds.',\n",
      "        'long_name': None,\n",
      "        'type': 'int',\n",
      "        'unit': None},\n",
      " 'T2echo': {'arg_name': 'T2echo',\n",
      "            'description': 'The dephasing time as measured by an echo '\n",
      "                           'experiment in seconds.',\n",
      "            'long_name': None,\n",
      "            'type': 'int',\n",
      "            'unit': None},\n",
      " 'T2ramsey': {'arg_name': 'T2ramsey',\n",
      "              'description': 'The dephasing time as measured by a Ramsey '\n",
      "                             'experiment in seconds.',\n",
      "              'long_name': None,\n",
      "              'type': 'int',\n",
      "              'unit': None},\n",
      " 'id': {'arg_name': 'id',\n",
      "        'description': 'The qubit ID. If int, it is converted to a string.',\n",
      "        'long_name': None,\n",
      "        'type': 'Union[int, str]',\n",
      "        'unit': None},\n",
      " 'resonator': {'arg_name': 'resonator',\n",
      "               'description': 'The readout resonator for the qubit.',\n",
      "               'long_name': None,\n",
      "               'type': 'ReadoutResonator',\n",
      "               'unit': None},\n",
      " 'thermalization_time_factor': {'arg_name': 'thermalization_time_factor',\n",
      "                                'description': 'Factor to multiply the T1 time '\n",
      "                                               'in cooldown qubit resets.',\n",
      "                                'long_name': None,\n",
      "                                'type': 'int',\n",
      "                                'unit': None},\n",
      " 'transition_frequencies': {'arg_name': 'transition_frequencies',\n",
      "                            'description': 'The transition frequencies of the '\n",
      "                                           'qubit in Hz.',\n",
      "                            'long_name': None,\n",
      "                            'type': 'list[float]',\n",
      "                            'unit': None},\n",
      " 'xy': {'arg_name': 'xy',\n",
      "        'description': 'The IQ channel for the qubit.',\n",
      "        'long_name': None,\n",
      "        'type': 'IQChannel',\n",
      "        'unit': None},\n",
      " 'z': {'arg_name': 'z',\n",
      "       'description': 'The flux channel for the qubit.',\n",
      "       'long_name': None,\n",
      "       'type': 'FluxLine',\n",
      "       'unit': None}}\n"
     ]
    }
   ],
   "source": [
    "docs_flux = get_metadata_of_class(FluxtunebleTransmon)\n",
    "pprint(docs_flux)"
   ]
  }
 ],
 "metadata": {
  "kernelspec": {
   "display_name": "myenv",
   "language": "python",
   "name": "python3"
  },
  "language_info": {
   "codemirror_mode": {
    "name": "ipython",
    "version": 3
   },
   "file_extension": ".py",
   "mimetype": "text/x-python",
   "name": "python",
   "nbconvert_exporter": "python",
   "pygments_lexer": "ipython3",
   "version": "3.10.14"
  }
 },
 "nbformat": 4,
 "nbformat_minor": 2
}
