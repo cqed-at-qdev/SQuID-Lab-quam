{
 "cells": [
  {
   "cell_type": "code",
   "execution_count": 1,
   "metadata": {},
   "outputs": [
    {
     "name": "stdout",
     "output_type": "stream",
     "text": [
      "C:\\Users\\drn455\\Documents\\GitHub\\SQuID-Lab-quam\n"
     ]
    }
   ],
   "source": [
    "cd \"C:\\Users\\drn455\\Documents\\GitHub\\SQuID-Lab-quam\""
   ]
  },
  {
   "cell_type": "code",
   "execution_count": 2,
   "metadata": {},
   "outputs": [],
   "source": [
    "# cd C:\\Users\\jacob\\OneDrive\\Documents\\GitHub\\SQuID-Lab-quam"
   ]
  },
  {
   "cell_type": "code",
   "execution_count": 3,
   "metadata": {},
   "outputs": [],
   "source": [
    "# cd C:\\Users\\MESO 1\\Documents\\GitHub\\SQuID-Lab-quam"
   ]
  },
  {
   "cell_type": "code",
   "execution_count": 4,
   "metadata": {},
   "outputs": [
    {
     "name": "stdout",
     "output_type": "stream",
     "text": [
      "2024-07-03 16:32:57,356 - qm - INFO     - Starting session: bf297f1b-1f80-468b-be7f-6064aad46449\n"
     ]
    }
   ],
   "source": [
    "from squid_lab_quam.components.roots import QuAMSCQ1\n",
    "\n",
    "machine = QuAMSCQ1()"
   ]
  },
  {
   "cell_type": "markdown",
   "metadata": {},
   "source": [
    "## Add information"
   ]
  },
  {
   "cell_type": "code",
   "execution_count": 5,
   "metadata": {},
   "outputs": [
    {
     "name": "stdout",
     "output_type": "stream",
     "text": [
      "User name: \u001b[1mJacob Hastrup (drn455)\u001b[0m\n",
      "Device name: \u001b[1mChalmers/5q4_v0\u001b[0m\n",
      "Fridge name: \u001b[1mmeso\u001b[0m\n"
     ]
    }
   ],
   "source": [
    "from squid_lab_quam.components.information import Information\n",
    "\n",
    "information = Information(\n",
    "    user_name=\"Jacob Hastrup\",\n",
    "    user_ku_tag=\"drn455\",\n",
    "    device_name=\"Chalmers/5q4_v0\",\n",
    "    fridge_name=\"meso\",\n",
    "    data_path=r\"\\\\unicph.domain\\groupdir\\SCI-NBI-QDev\\SQuID Lab Data\\Devices\\Chalmers 5q4c v1.1\\OPX Data\",\n",
    "    # state_path=r\"C:\\Users\\MESO 1\\Documents\\GitHub\\SQuID-Lab-quam\\squid_lab_quam\\tests\",\n",
    "    state_path=r\"C:\\Users\\jacob\\OneDrive\\Documents\\GitHub\\SQuID-Lab-quam\\squid_lab_quam\\tests\\state\",\n",
    ")\n",
    "\n",
    "machine.information = information\n",
    "\n",
    "information.print_info()"
   ]
  },
  {
   "cell_type": "markdown",
   "metadata": {},
   "source": [
    "## Add network"
   ]
  },
  {
   "cell_type": "code",
   "execution_count": 6,
   "metadata": {},
   "outputs": [],
   "source": [
    "from squid_lab_quam.components.network import OPXNetwork, OctaveNetwork\n",
    "\n",
    "network = OPXNetwork(\n",
    "    host=\"10.209.67.168\",\n",
    "    cluster_name=\"Cluster_1\",\n",
    "    octave_networks={\n",
    "        \"octave1\": OctaveNetwork(\n",
    "            octave_host=\"10.209.67.174\", octave_port=80, controller=\"con1\"\n",
    "        )\n",
    "    },\n",
    ")\n",
    "\n",
    "machine.network = network"
   ]
  },
  {
   "cell_type": "markdown",
   "metadata": {},
   "source": [
    "## Add wiring"
   ]
  },
  {
   "cell_type": "code",
   "execution_count": 7,
   "metadata": {},
   "outputs": [],
   "source": [
    "from squid_lab_quam.components.wiring import (\n",
    "    OPXWiring,\n",
    "    OPXFeedLineWiring,\n",
    "    OPXIQChannelWiring,\n",
    ")\n",
    "\n",
    "wiring = OPXWiring(\n",
    "    drive_lines={\n",
    "        \"q0\": OPXIQChannelWiring(\n",
    "            port_I=(\"con1\", 0),\n",
    "            port_Q=(\"con1\", 0),\n",
    "        ),\n",
    "        \"q1\": OPXIQChannelWiring(\n",
    "            port_I=(\"con1\", 0),\n",
    "            port_Q=(\"con1\", 0),\n",
    "        ),\n",
    "        \"q2\": OPXIQChannelWiring(\n",
    "            port_I=(\"con1\", 0),\n",
    "            port_Q=(\"con1\", 0),\n",
    "        ),\n",
    "        \"q3\": OPXIQChannelWiring(\n",
    "            port_I=(\"con1\", 0),\n",
    "            port_Q=(\"con1\", 0),\n",
    "        ),\n",
    "        \"q4\": OPXIQChannelWiring(\n",
    "            port_I=(\"con1\", 0),\n",
    "            port_Q=(\"con1\", 0),\n",
    "        ),\n",
    "    },\n",
    "    feed_lines={\n",
    "        \"feedline\": OPXFeedLineWiring(\n",
    "            output_I=(\"con1\", 0),\n",
    "            output_Q=(\"con1\", 0),\n",
    "            input_I=(\"con1\", 0),\n",
    "            input_Q=(\"con1\", 0),\n",
    "        )\n",
    "    },\n",
    ")\n",
    "\n",
    "machine.wiring = wiring"
   ]
  },
  {
   "cell_type": "markdown",
   "metadata": {},
   "source": [
    "## Add octaves"
   ]
  },
  {
   "cell_type": "code",
   "execution_count": 8,
   "metadata": {},
   "outputs": [],
   "source": [
    "from squid_lab_quam.components.octave import OctaveSQuID\n",
    "\n",
    "octaves = {\n",
    "    \"octave1\": OctaveSQuID(\n",
    "        ip=network.octave_networks[\"octave1\"].get_reference(\"octave_host\"),\n",
    "        port=network.octave_networks[\"octave1\"].get_reference(\"octave_port\"),\n",
    "    )\n",
    "}\n",
    "machine.octaves = octaves"
   ]
  },
  {
   "cell_type": "markdown",
   "metadata": {},
   "source": [
    "## Add readout frequency converters"
   ]
  },
  {
   "cell_type": "code",
   "execution_count": 9,
   "metadata": {},
   "outputs": [],
   "source": [
    "from squid_lab_quam.components.octave import (\n",
    "    OctaveUpConverterSQuID,\n",
    "    OctaveDownConverterSQuID,\n",
    ")\n",
    "\n",
    "\n",
    "readout_up_converter = OctaveUpConverterSQuID()\n",
    "\n",
    "\n",
    "octaves[\"octave1\"].RF_outputs[1] = readout_up_converter\n",
    "\n",
    "\n",
    "readout_down_converter = OctaveDownConverterSQuID(\n",
    "    LO_frequency=readout_up_converter.get_reference(\"LO_frequency\"),\n",
    ")\n",
    "\n",
    "\n",
    "octaves[\"octave1\"].RF_inputs[1] = readout_down_converter"
   ]
  },
  {
   "cell_type": "markdown",
   "metadata": {},
   "source": [
    "## Add qubits"
   ]
  },
  {
   "cell_type": "code",
   "execution_count": 10,
   "metadata": {},
   "outputs": [],
   "source": [
    "from squid_lab_quam.components.qubits import Transmon\n",
    "from squid_lab_quam.components.resonators import ReadoutResonator\n",
    "from quam.components.channels import IQChannel, InOutIQChannel\n",
    "from squid_lab_quam.components.pulse_sets import PulseSetDragGaussian, PulseSetFlattopCosine\n",
    "from quam.components.pulses import SquareReadoutPulse\n",
    "\n",
    "qubit_names = [\"q0\", \"q1\", \"q2\", \"q3\", \"q4\"]\n",
    "\n",
    "machine.shared_qubit_parameters = {\n",
    "    \"drag_gaussian_pulse_parameters\": {\"length\": 40, \"sigma\": 7, \"subtracted\": True},\n",
    "}\n",
    "\n",
    "for idx, qubit_name in enumerate(qubit_names):\n",
    "    # Add driving frequency converter\n",
    "    drive_up_converter = OctaveUpConverterSQuID()\n",
    "    octaves[\"octave1\"].RF_outputs[idx + 2] = drive_up_converter\n",
    "\n",
    "    # Add qubit\n",
    "    qubit = Transmon(\n",
    "        xy=IQChannel(\n",
    "            opx_output_I=f\"#/wiring/drive_lines/{qubit_name}/port_I\",\n",
    "            opx_output_Q=f\"#/wiring/drive_lines/{qubit_name}/port_Q\",\n",
    "            frequency_converter_up=drive_up_converter.get_reference(),\n",
    "        ),\n",
    "        resonator=ReadoutResonator(\n",
    "            channel=InOutIQChannel(\n",
    "                opx_input_I=f\"#/wiring/feed_lines/feedline/input_I\",\n",
    "                opx_input_Q=f\"#/wiring/feed_lines/feedline/input_Q\",\n",
    "                opx_output_I=f\"#/wiring/feed_lines/feedline/output_I\",\n",
    "                opx_output_Q=f\"#/wiring/feed_lines/feedline/output_Q\",\n",
    "                frequency_converter_up=readout_up_converter.get_reference(),\n",
    "                frequency_converter_down=readout_down_converter.get_reference(),\n",
    "            )\n",
    "        ),\n",
    "        transition_frequencies=[6, 5],\n",
    "    )\n",
    "    qubit.pulse_sets = {\n",
    "        \"drag_gaussian\": PulseSetDragGaussian(\n",
    "            amplitude_180=0.5,\n",
    "            amplitude_90=0.25,\n",
    "            sigma=\"#/shared_qubit_parameters/drag_gaussian_pulse_parameters/sigma\",\n",
    "            length=\"#/shared_qubit_parameters/drag_gaussian_pulse_parameters/length\",\n",
    "            subtracted=\"#/shared_qubit_parameters/drag_gaussian_pulse_parameters/subtracted\",\n",
    "            anharmonicity=\"#../../anharmonicity\",\n",
    "        ),\n",
    "        \"flattop_cosine\": PulseSetFlattopCosine(\n",
    "            amplitude=0.1,\n",
    "            rise_fall_time=16,\n",
    "        )\n",
    "    }\n",
    "\n",
    "    machine.qubits[qubit_name] = qubit\n",
    "\n",
    "    qubit.resonator.channel.operations[\"readout\"] = SquareReadoutPulse(\n",
    "        length=1000, amplitude=0.1, threshold=0.0, digital_marker=\"ON\"\n",
    "    )"
   ]
  },
  {
   "cell_type": "code",
   "execution_count": 11,
   "metadata": {},
   "outputs": [],
   "source": [
    "machine.qubits[\"q0\"].pulse_sets[\"drag_gaussian\"]._add_drive_pulses()"
   ]
  },
  {
   "cell_type": "code",
   "execution_count": 12,
   "metadata": {},
   "outputs": [],
   "source": [
    "machine.set_default_gate_shape(\"drag_gaussian\")"
   ]
  },
  {
   "cell_type": "code",
   "execution_count": null,
   "metadata": {},
   "outputs": [],
   "source": []
  },
  {
   "cell_type": "code",
   "execution_count": 13,
   "metadata": {},
   "outputs": [
    {
     "ename": "FileNotFoundError",
     "evalue": "[WinError 3] The system cannot find the path specified: 'C:\\\\Users\\\\jacob\\\\OneDrive\\\\Documents\\\\GitHub\\\\SQuID-Lab-quam\\\\squid_lab_quam\\\\tests\\\\state'",
     "output_type": "error",
     "traceback": [
      "\u001b[1;31m---------------------------------------------------------------------------\u001b[0m",
      "\u001b[1;31mFileNotFoundError\u001b[0m                         Traceback (most recent call last)",
      "Cell \u001b[1;32mIn[13], line 1\u001b[0m\n\u001b[1;32m----> 1\u001b[0m \u001b[43mmachine\u001b[49m\u001b[38;5;241;43m.\u001b[39;49m\u001b[43msave\u001b[49m\u001b[43m(\u001b[49m\u001b[43m)\u001b[49m\n",
      "File \u001b[1;32m~\\Documents\\GitHub\\SQuID-Lab-quam\\squid_lab_quam\\components\\roots.py:117\u001b[0m, in \u001b[0;36mQuAMSCQ1.save\u001b[1;34m(self, content_mapping, include_defaults, ignore)\u001b[0m\n\u001b[0;32m    110\u001b[0m \u001b[38;5;28;01mif\u001b[39;00m content_mapping \u001b[38;5;129;01mis\u001b[39;00m \u001b[38;5;28;01mNone\u001b[39;00m:\n\u001b[0;32m    111\u001b[0m     content_mapping \u001b[38;5;241m=\u001b[39m {\n\u001b[0;32m    112\u001b[0m         \u001b[38;5;124m\"\u001b[39m\u001b[38;5;124mwiring.json\u001b[39m\u001b[38;5;124m\"\u001b[39m: \u001b[38;5;124m\"\u001b[39m\u001b[38;5;124mwiring\u001b[39m\u001b[38;5;124m\"\u001b[39m,\n\u001b[0;32m    113\u001b[0m         \u001b[38;5;124m\"\u001b[39m\u001b[38;5;124mnetwork.json\u001b[39m\u001b[38;5;124m\"\u001b[39m: \u001b[38;5;124m\"\u001b[39m\u001b[38;5;124mnetwork\u001b[39m\u001b[38;5;124m\"\u001b[39m,\n\u001b[0;32m    114\u001b[0m         \u001b[38;5;124m\"\u001b[39m\u001b[38;5;124minformation.json\u001b[39m\u001b[38;5;124m\"\u001b[39m: \u001b[38;5;124m\"\u001b[39m\u001b[38;5;124minformation\u001b[39m\u001b[38;5;124m\"\u001b[39m,\n\u001b[0;32m    115\u001b[0m     }\n\u001b[1;32m--> 117\u001b[0m \u001b[38;5;28;43msuper\u001b[39;49m\u001b[43m(\u001b[49m\u001b[43m)\u001b[49m\u001b[38;5;241;43m.\u001b[39;49m\u001b[43msave\u001b[49m\u001b[43m(\u001b[49m\n\u001b[0;32m    118\u001b[0m \u001b[43m    \u001b[49m\u001b[43mpath\u001b[49m\u001b[38;5;241;43m=\u001b[39;49m\u001b[38;5;28;43mself\u001b[39;49m\u001b[38;5;241;43m.\u001b[39;49m\u001b[43minformation\u001b[49m\u001b[38;5;241;43m.\u001b[39;49m\u001b[43mstate_path\u001b[49m\u001b[43m,\u001b[49m\n\u001b[0;32m    119\u001b[0m \u001b[43m    \u001b[49m\u001b[43mcontent_mapping\u001b[49m\u001b[38;5;241;43m=\u001b[39;49m\u001b[43mcontent_mapping\u001b[49m\u001b[43m,\u001b[49m\n\u001b[0;32m    120\u001b[0m \u001b[43m    \u001b[49m\u001b[43minclude_defaults\u001b[49m\u001b[38;5;241;43m=\u001b[39;49m\u001b[43minclude_defaults\u001b[49m\u001b[43m,\u001b[49m\n\u001b[0;32m    121\u001b[0m \u001b[43m    \u001b[49m\u001b[43mignore\u001b[49m\u001b[38;5;241;43m=\u001b[39;49m\u001b[43mignore\u001b[49m\u001b[43m,\u001b[49m\n\u001b[0;32m    122\u001b[0m \u001b[43m\u001b[49m\u001b[43m)\u001b[49m\n",
      "File \u001b[1;32mc:\\Users\\drn455\\AppData\\Local\\anaconda3\\envs\\opx_control\\Lib\\site-packages\\quam\\core\\quam_classes.py:581\u001b[0m, in \u001b[0;36mQuamRoot.save\u001b[1;34m(self, path, content_mapping, include_defaults, ignore)\u001b[0m\n\u001b[0;32m    568\u001b[0m \u001b[38;5;250m\u001b[39m\u001b[38;5;124;03m\"\"\"Save the entire QuamRoot object to a file. This includes nested objects.\u001b[39;00m\n\u001b[0;32m    569\u001b[0m \n\u001b[0;32m    570\u001b[0m \u001b[38;5;124;03mArgs:\u001b[39;00m\n\u001b[1;32m   (...)\u001b[0m\n\u001b[0;32m    578\u001b[0m \u001b[38;5;124;03m    ignore: A list of attributes to ignore.\u001b[39;00m\n\u001b[0;32m    579\u001b[0m \u001b[38;5;124;03m\"\"\"\u001b[39;00m\n\u001b[0;32m    580\u001b[0m serialiser \u001b[38;5;241m=\u001b[39m \u001b[38;5;28mself\u001b[39m\u001b[38;5;241m.\u001b[39mserialiser()\n\u001b[1;32m--> 581\u001b[0m \u001b[43mserialiser\u001b[49m\u001b[38;5;241;43m.\u001b[39;49m\u001b[43msave\u001b[49m\u001b[43m(\u001b[49m\n\u001b[0;32m    582\u001b[0m \u001b[43m    \u001b[49m\u001b[43mquam_obj\u001b[49m\u001b[38;5;241;43m=\u001b[39;49m\u001b[38;5;28;43mself\u001b[39;49m\u001b[43m,\u001b[49m\n\u001b[0;32m    583\u001b[0m \u001b[43m    \u001b[49m\u001b[43mpath\u001b[49m\u001b[38;5;241;43m=\u001b[39;49m\u001b[43mpath\u001b[49m\u001b[43m,\u001b[49m\n\u001b[0;32m    584\u001b[0m \u001b[43m    \u001b[49m\u001b[43mcontent_mapping\u001b[49m\u001b[38;5;241;43m=\u001b[39;49m\u001b[43mcontent_mapping\u001b[49m\u001b[43m,\u001b[49m\n\u001b[0;32m    585\u001b[0m \u001b[43m    \u001b[49m\u001b[43minclude_defaults\u001b[49m\u001b[38;5;241;43m=\u001b[39;49m\u001b[43minclude_defaults\u001b[49m\u001b[43m,\u001b[49m\n\u001b[0;32m    586\u001b[0m \u001b[43m    \u001b[49m\u001b[43mignore\u001b[49m\u001b[38;5;241;43m=\u001b[39;49m\u001b[43mignore\u001b[49m\u001b[43m,\u001b[49m\n\u001b[0;32m    587\u001b[0m \u001b[43m\u001b[49m\u001b[43m)\u001b[49m\n",
      "File \u001b[1;32mc:\\Users\\drn455\\AppData\\Local\\anaconda3\\envs\\opx_control\\Lib\\site-packages\\quam\\serialisation\\json.py:114\u001b[0m, in \u001b[0;36mJSONSerialiser.save\u001b[1;34m(self, quam_obj, path, content_mapping, include_defaults, ignore)\u001b[0m\n\u001b[0;32m    110\u001b[0m     contents\u001b[38;5;241m.\u001b[39mpop(key, \u001b[38;5;28;01mNone\u001b[39;00m)\n\u001b[0;32m    112\u001b[0m folder, default_filename \u001b[38;5;241m=\u001b[39m \u001b[38;5;28mself\u001b[39m\u001b[38;5;241m.\u001b[39m_parse_path(path, content_mapping)\n\u001b[1;32m--> 114\u001b[0m \u001b[43mfolder\u001b[49m\u001b[38;5;241;43m.\u001b[39;49m\u001b[43mmkdir\u001b[49m\u001b[43m(\u001b[49m\u001b[43mexist_ok\u001b[49m\u001b[38;5;241;43m=\u001b[39;49m\u001b[38;5;28;43;01mTrue\u001b[39;49;00m\u001b[43m)\u001b[49m\n\u001b[0;32m    116\u001b[0m content_mapping \u001b[38;5;241m=\u001b[39m content_mapping\u001b[38;5;241m.\u001b[39mcopy()\n\u001b[0;32m    117\u001b[0m \u001b[38;5;28;01mfor\u001b[39;00m component_file, components \u001b[38;5;129;01min\u001b[39;00m content_mapping\u001b[38;5;241m.\u001b[39mitems():\n",
      "File \u001b[1;32mc:\\Users\\drn455\\AppData\\Local\\anaconda3\\envs\\opx_control\\Lib\\pathlib.py:1116\u001b[0m, in \u001b[0;36mPath.mkdir\u001b[1;34m(self, mode, parents, exist_ok)\u001b[0m\n\u001b[0;32m   1112\u001b[0m \u001b[38;5;250m\u001b[39m\u001b[38;5;124;03m\"\"\"\u001b[39;00m\n\u001b[0;32m   1113\u001b[0m \u001b[38;5;124;03mCreate a new directory at this given path.\u001b[39;00m\n\u001b[0;32m   1114\u001b[0m \u001b[38;5;124;03m\"\"\"\u001b[39;00m\n\u001b[0;32m   1115\u001b[0m \u001b[38;5;28;01mtry\u001b[39;00m:\n\u001b[1;32m-> 1116\u001b[0m     \u001b[43mos\u001b[49m\u001b[38;5;241;43m.\u001b[39;49m\u001b[43mmkdir\u001b[49m\u001b[43m(\u001b[49m\u001b[38;5;28;43mself\u001b[39;49m\u001b[43m,\u001b[49m\u001b[43m \u001b[49m\u001b[43mmode\u001b[49m\u001b[43m)\u001b[49m\n\u001b[0;32m   1117\u001b[0m \u001b[38;5;28;01mexcept\u001b[39;00m \u001b[38;5;167;01mFileNotFoundError\u001b[39;00m:\n\u001b[0;32m   1118\u001b[0m     \u001b[38;5;28;01mif\u001b[39;00m \u001b[38;5;129;01mnot\u001b[39;00m parents \u001b[38;5;129;01mor\u001b[39;00m \u001b[38;5;28mself\u001b[39m\u001b[38;5;241m.\u001b[39mparent \u001b[38;5;241m==\u001b[39m \u001b[38;5;28mself\u001b[39m:\n",
      "\u001b[1;31mFileNotFoundError\u001b[0m: [WinError 3] The system cannot find the path specified: 'C:\\\\Users\\\\jacob\\\\OneDrive\\\\Documents\\\\GitHub\\\\SQuID-Lab-quam\\\\squid_lab_quam\\\\tests\\\\state'"
     ]
    }
   ],
   "source": [
    "machine.save()"
   ]
  },
  {
   "cell_type": "code",
   "execution_count": null,
   "metadata": {},
   "outputs": [],
   "source": []
  }
 ],
 "metadata": {
  "kernelspec": {
   "display_name": "quam_test2",
   "language": "python",
   "name": "python3"
  },
  "language_info": {
   "codemirror_mode": {
    "name": "ipython",
    "version": 3
   },
   "file_extension": ".py",
   "mimetype": "text/x-python",
   "name": "python",
   "nbconvert_exporter": "python",
   "pygments_lexer": "ipython3",
   "version": "3.11.9"
  }
 },
 "nbformat": 4,
 "nbformat_minor": 2
}
