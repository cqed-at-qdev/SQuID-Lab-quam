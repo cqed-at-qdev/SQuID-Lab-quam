{
 "cells": [
  {
   "cell_type": "code",
   "execution_count": 25,
   "metadata": {},
   "outputs": [
    {
     "name": "stdout",
     "output_type": "stream",
     "text": [
      "C:\\Users\\drn455\\Documents\\GitHub\\SQuID-Lab-quam\n"
     ]
    }
   ],
   "source": [
    "cd \"C:\\Users\\drn455\\Documents\\GitHub\\SQuID-Lab-quam\""
   ]
  },
  {
   "cell_type": "code",
   "execution_count": 26,
   "metadata": {},
   "outputs": [],
   "source": [
    "# cd C:\\Users\\jacob\\OneDrive\\Documents\\GitHub\\SQuID-Lab-quam"
   ]
  },
  {
   "cell_type": "code",
   "execution_count": 27,
   "metadata": {},
   "outputs": [],
   "source": [
    "# cd C:\\Users\\MESO 1\\Documents\\GitHub\\SQuID-Lab-quam"
   ]
  },
  {
   "cell_type": "code",
   "execution_count": 28,
   "metadata": {},
   "outputs": [],
   "source": [
    "from squid_lab_quam.components.roots import QuAMSCQ1\n",
    "\n",
    "machine = QuAMSCQ1()"
   ]
  },
  {
   "cell_type": "markdown",
   "metadata": {},
   "source": [
    "## Add information"
   ]
  },
  {
   "cell_type": "code",
   "execution_count": 29,
   "metadata": {},
   "outputs": [
    {
     "name": "stdout",
     "output_type": "stream",
     "text": [
      "User name: \u001b[1mJacob Hastrup (drn455)\u001b[0m\n",
      "Device name: \u001b[1mChalmers/5q4c_v0\u001b[0m\n",
      "Fridge name: \u001b[1mmeso\u001b[0m\n"
     ]
    }
   ],
   "source": [
    "from squid_lab_quam.components.information import Information\n",
    "\n",
    "information = Information(\n",
    "    user_name=\"Jacob Hastrup\",\n",
    "    user_ku_tag=\"drn455\",\n",
    "    device_name=\"Chalmers/5q4c_v0\",\n",
    "    fridge_name=\"meso\",\n",
    "    # data_path=r\"\\\\unicph.domain\\groupdir\\SCI-NBI-QDev\\SQuID Lab Data\\Devices\\Chalmers 5q4c v1.1\\OPX Data\",\n",
    "    # state_path=r\"C:\\Users\\MESO 1\\Documents\\GitHub\\SQuID-Lab-quam\\squid_lab_quam\\tests\",\n",
    "    # state_path=r\"C:\\Users\\jacob\\OneDrive\\Documents\\GitHub\\SQuID-Lab-quam\\squid_lab_quam\\tests\\state\",\n",
    "    state_path=\"C:/Users/drn455/Documents/GitHub/SQuID-Lab-quam/squid_lab_quam/tests/state\",\n",
    ")\n",
    "\n",
    "machine.information = information\n",
    "\n",
    "information.print_info()"
   ]
  },
  {
   "cell_type": "markdown",
   "metadata": {},
   "source": [
    "## Add network"
   ]
  },
  {
   "cell_type": "code",
   "execution_count": 30,
   "metadata": {},
   "outputs": [],
   "source": [
    "from squid_lab_quam.components.network import OPXNetwork, OctaveNetwork\n",
    "\n",
    "network = OPXNetwork(\n",
    "    host=\"10.209.67.168\",\n",
    "    cluster_name=\"Cluster_1\",\n",
    "    octave_networks={\n",
    "        \"octave1\": OctaveNetwork(\n",
    "            octave_host=\"10.209.67.174\", octave_port=80, controller=\"con1\"\n",
    "        )\n",
    "    },\n",
    ")\n",
    "\n",
    "machine.network = network"
   ]
  },
  {
   "cell_type": "markdown",
   "metadata": {},
   "source": [
    "## Add wiring"
   ]
  },
  {
   "cell_type": "code",
   "execution_count": 31,
   "metadata": {},
   "outputs": [],
   "source": [
    "from squid_lab_quam.components.wiring import (\n",
    "    OPXWiring,\n",
    "    OPXFeedLineWiring,\n",
    "    OPXIQChannelWiring,\n",
    ")\n",
    "\n",
    "wiring = OPXWiring(\n",
    "    drive_lines={\n",
    "        \"q0\": OPXIQChannelWiring(\n",
    "            port_I=(\"con1\", 0),\n",
    "            port_Q=(\"con1\", 0),\n",
    "        ),\n",
    "        \"q1\": OPXIQChannelWiring(\n",
    "            port_I=(\"con1\", 0),\n",
    "            port_Q=(\"con1\", 0),\n",
    "        ),\n",
    "        \"q2\": OPXIQChannelWiring(\n",
    "            port_I=(\"con1\", 0),\n",
    "            port_Q=(\"con1\", 0),\n",
    "        ),\n",
    "        \"q3\": OPXIQChannelWiring(\n",
    "            port_I=(\"con1\", 0),\n",
    "            port_Q=(\"con1\", 0),\n",
    "        ),\n",
    "        \"q4\": OPXIQChannelWiring(\n",
    "            port_I=(\"con1\", 0),\n",
    "            port_Q=(\"con1\", 0),\n",
    "        ),\n",
    "    },\n",
    "    feed_lines={\n",
    "        \"feedline\": OPXFeedLineWiring(\n",
    "            output_I=(\"con1\", 0),\n",
    "            output_Q=(\"con1\", 0),\n",
    "            input_I=(\"con1\", 0),\n",
    "            input_Q=(\"con1\", 0),\n",
    "        )\n",
    "    },\n",
    ")\n",
    "\n",
    "machine.wiring = wiring"
   ]
  },
  {
   "cell_type": "markdown",
   "metadata": {},
   "source": [
    "## Add octaves"
   ]
  },
  {
   "cell_type": "code",
   "execution_count": 32,
   "metadata": {},
   "outputs": [],
   "source": [
    "from squid_lab_quam.components.octave import OctaveSQuID\n",
    "\n",
    "octaves = {\n",
    "    \"octave1\": OctaveSQuID(\n",
    "        ip=network.octave_networks[\"octave1\"].get_reference(\"octave_host\"),\n",
    "        port=network.octave_networks[\"octave1\"].get_reference(\"octave_port\"),\n",
    "    )\n",
    "}\n",
    "machine.octaves = octaves"
   ]
  },
  {
   "cell_type": "markdown",
   "metadata": {},
   "source": [
    "## Add readout frequency converters"
   ]
  },
  {
   "cell_type": "code",
   "execution_count": 33,
   "metadata": {},
   "outputs": [],
   "source": [
    "from squid_lab_quam.components.octave import (\n",
    "    OctaveUpConverterSQuID,\n",
    "    OctaveDownConverterSQuID,\n",
    ")\n",
    "\n",
    "\n",
    "readout_up_converter = OctaveUpConverterSQuID(LO_frequency=5e9)\n",
    "\n",
    "\n",
    "octaves[\"octave1\"].RF_outputs[1] = readout_up_converter\n",
    "\n",
    "\n",
    "readout_down_converter = OctaveDownConverterSQuID(\n",
    "    LO_frequency=readout_up_converter.get_reference(\"LO_frequency\"),\n",
    ")\n",
    "\n",
    "\n",
    "octaves[\"octave1\"].RF_inputs[1] = readout_down_converter"
   ]
  },
  {
   "cell_type": "markdown",
   "metadata": {},
   "source": [
    "## Add qubits"
   ]
  },
  {
   "cell_type": "code",
   "execution_count": 41,
   "metadata": {},
   "outputs": [],
   "source": [
    "from squid_lab_quam.components.qubits import Transmon\n",
    "from squid_lab_quam.components.resonators import ReadoutResonator\n",
    "from quam.components.channels import IQChannel, InOutIQChannel\n",
    "from squid_lab_quam.components.pulse_sets import PulseSetDragGaussian, PulseSetFlattopCosine\n",
    "from quam.components.pulses import SquareReadoutPulse\n",
    "\n",
    "qubit_names = [\"q0\", \"q1\", \"q2\", \"q3\", \"q4\"]\n",
    "\n",
    "machine.shared_qubit_parameters = {\n",
    "    \"drag_gaussian_pulse_parameters\": {\"length\": 40, \"sigma\": 7, \"subtracted\": True},\n",
    "}\n",
    "\n",
    "for idx, qubit_name in enumerate(qubit_names):\n",
    "    # Add driving frequency converter\n",
    "    drive_up_converter = OctaveUpConverterSQuID(LO_frequency=5.5e9)\n",
    "    octaves[\"octave1\"].RF_outputs[idx + 2] = drive_up_converter\n",
    "\n",
    "    # Add qubit\n",
    "    qubit = Transmon(\n",
    "        xy=IQChannel(\n",
    "            opx_output_I=f\"#/wiring/drive_lines/{qubit_name}/port_I\",\n",
    "            opx_output_Q=f\"#/wiring/drive_lines/{qubit_name}/port_Q\",\n",
    "            frequency_converter_up=drive_up_converter.get_reference(),\n",
    "        ),\n",
    "        resonator=ReadoutResonator(\n",
    "            channel=InOutIQChannel(\n",
    "                opx_input_I=f\"#/wiring/feed_lines/feedline/input_I\",\n",
    "                opx_input_Q=f\"#/wiring/feed_lines/feedline/input_Q\",\n",
    "                opx_output_I=f\"#/wiring/feed_lines/feedline/output_I\",\n",
    "                opx_output_Q=f\"#/wiring/feed_lines/feedline/output_Q\",\n",
    "                frequency_converter_up=readout_up_converter.get_reference(),\n",
    "                frequency_converter_down=readout_down_converter.get_reference(),\n",
    "            )\n",
    "        ),\n",
    "        transition_frequencies=[6, 5],\n",
    "    )\n",
    "    qubit.pulse_sets = {\n",
    "        \"drag_gaussian\": PulseSetDragGaussian(\n",
    "            amplitude_180=0.5,\n",
    "            amplitude_90=0.25,\n",
    "            sigma=\"#/shared_qubit_parameters/drag_gaussian_pulse_parameters/sigma\",\n",
    "            length=\"#/shared_qubit_parameters/drag_gaussian_pulse_parameters/length\",\n",
    "            subtracted=\"#/shared_qubit_parameters/drag_gaussian_pulse_parameters/subtracted\",\n",
    "            anharmonicity=\"#../../anharmonicity\",\n",
    "        ),\n",
    "        \"flattop_cosine\": PulseSetFlattopCosine(\n",
    "            amplitude=0.1,\n",
    "            rise_fall_time=16,\n",
    "        )\n",
    "    }\n",
    "    \n",
    "\n",
    "    machine.qubits[qubit_name] = qubit\n",
    "    qubit.pulse_sets[\"drag_gaussian\"].add_drive_pulses()\n",
    "    qubit.pulse_sets[\"flattop_cosine\"].add_drive_pulses()\n",
    "\n",
    "\n",
    "    qubit.resonator.channel.operations[\"readout\"] = SquareReadoutPulse(\n",
    "        length=1000, amplitude=0.1, threshold=0.0, digital_marker=\"ON\"\n",
    "    )"
   ]
  },
  {
   "cell_type": "code",
   "execution_count": 40,
   "metadata": {},
   "outputs": [],
   "source": [
    "machine.qubits[\"q0\"].xy.frequency_converter_up.LO_frequency "
   ]
  },
  {
   "cell_type": "code",
   "execution_count": 36,
   "metadata": {},
   "outputs": [
    {
     "name": "stderr",
     "output_type": "stream",
     "text": [
      "c:\\Users\\drn455\\AppData\\Local\\anaconda3\\envs\\opx_control\\Lib\\site-packages\\quam\\core\\quam_classes.py:487: UserWarning: Could not get reference #./inferred_RF_frequency from IQChannel: #/qubits/q0/xy.\n",
      "String #./inferred_RF_frequency is not a valid reference, Error: Error inferring RF frequency for channel q0.xy: LO_frequency is not a number: None\n",
      "  warnings.warn(f\"Could not get reference {reference} from {ref}.\\n{str(e)}\")\n"
     ]
    },
    {
     "data": {
      "text/plain": [
       "Transmon(id='q0', xy=IQChannel(operations={'x90_drag_gaussian': DragGaussianPulse(length=40, id=None, digital_marker=None, axis_angle=0, amplitude=0.25, sigma=7, alpha=0, anharmonicity=-1, detuning=0, subtracted=True), 'x180_drag_gaussian': DragGaussianPulse(length=40, id=None, digital_marker=None, axis_angle=0, amplitude=0.5, sigma=7, alpha=0, anharmonicity=-1, detuning=0, subtracted=True), 'y90_drag_gaussian': DragGaussianPulse(length=40, id=None, digital_marker=None, axis_angle=90, amplitude=0.25, sigma=7, alpha=0, anharmonicity=-1, detuning=0, subtracted=True), 'y180_drag_gaussian': DragGaussianPulse(length=40, id=None, digital_marker=None, axis_angle=90, amplitude=0.5, sigma=7, alpha=0, anharmonicity=-1, detuning=0, subtracted=True), '-x90_drag_gaussian': DragGaussianPulse(length=40, id=None, digital_marker=None, axis_angle=0, amplitude=-0.25, sigma=7, alpha=0, anharmonicity=-1, detuning=0, subtracted=True), '-y90_drag_gaussian': DragGaussianPulse(length=40, id=None, digital_marker=None, axis_angle=90, amplitude=-0.25, sigma=7, alpha=0, anharmonicity=-1, detuning=0, subtracted=True)}, id=None, digital_outputs={}, opx_output_I=('con1', 0), opx_output_Q=('con1', 0), opx_output_offset_I=None, opx_output_offset_Q=None, frequency_converter_up=OctaveUpConverterSQuID(id='2', channel=None, LO_frequency=None, LO_source='internal', gain=0, output_mode='always_off', input_attenuators='off'), intermediate_frequency=0.0, LO_frequency=None, RF_frequency='#./inferred_RF_frequency'), resonator=ReadoutResonator(channel=InOutIQChannel(operations={'readout': SquareReadoutPulse(length=1000, id=None, digital_marker='ON', amplitude=0.1, axis_angle=None, threshold=0.0, rus_exit_threshold=None, integration_weights=None, integration_weights_angle=0)}, id=None, digital_outputs={}, opx_input_I=('con1', 0), opx_input_Q=('con1', 0), time_of_flight=24, smearing=0, opx_input_offset_I=None, opx_input_offset_Q=None, input_gain=None, frequency_converter_down=OctaveDownConverterSQuID(id='1', channel=None, LO_frequency=5000000000.0, LO_source='internal', IF_mode_I='direct', IF_mode_Q='direct', IF_output_I=1, IF_output_Q=2), opx_output_I=('con1', 0), opx_output_Q=('con1', 0), opx_output_offset_I=None, opx_output_offset_Q=None, frequency_converter_up=OctaveUpConverterSQuID(id='1', channel=None, LO_frequency=5000000000.0, LO_source='internal', gain=0, output_mode='always_off', input_attenuators='off'), intermediate_frequency=0.0, LO_frequency=5000000000.0, RF_frequency=5000000000.0), depletion_time=None, frequency_bare=None, frequency_q0=None, frequency_q1=None, Q_int=None, Q_ext=None), transition_frequencies=[6, 5], T1=None, T2ramsey=None, T2echo=None, thermalization_time_factor=5, pulse_sets={'drag_gaussian': PulseSetDragGaussian(pulse_name='drag_gaussian', channel=IQChannel(operations={'x90_drag_gaussian': DragGaussianPulse(length=40, id=None, digital_marker=None, axis_angle=0, amplitude=0.25, sigma=7, alpha=0, anharmonicity=-1, detuning=0, subtracted=True), 'x180_drag_gaussian': DragGaussianPulse(length=40, id=None, digital_marker=None, axis_angle=0, amplitude=0.5, sigma=7, alpha=0, anharmonicity=-1, detuning=0, subtracted=True), 'y90_drag_gaussian': DragGaussianPulse(length=40, id=None, digital_marker=None, axis_angle=90, amplitude=0.25, sigma=7, alpha=0, anharmonicity=-1, detuning=0, subtracted=True), 'y180_drag_gaussian': DragGaussianPulse(length=40, id=None, digital_marker=None, axis_angle=90, amplitude=0.5, sigma=7, alpha=0, anharmonicity=-1, detuning=0, subtracted=True), '-x90_drag_gaussian': DragGaussianPulse(length=40, id=None, digital_marker=None, axis_angle=0, amplitude=-0.25, sigma=7, alpha=0, anharmonicity=-1, detuning=0, subtracted=True), '-y90_drag_gaussian': DragGaussianPulse(length=40, id=None, digital_marker=None, axis_angle=90, amplitude=-0.25, sigma=7, alpha=0, anharmonicity=-1, detuning=0, subtracted=True)}, id=None, digital_outputs={}, opx_output_I=('con1', 0), opx_output_Q=('con1', 0), opx_output_offset_I=None, opx_output_offset_Q=None, frequency_converter_up=OctaveUpConverterSQuID(id='2', channel=None, LO_frequency=None, LO_source='internal', gain=0, output_mode='always_off', input_attenuators='off'), intermediate_frequency=0.0, LO_frequency=None, RF_frequency='#./inferred_RF_frequency'), amplitude_90=0.25, amplitude_180=0.5, length=40, sigma=7, phase_x=0, phase_y=90, anharmonicity=-1, detuning=0, alpha=0, subtracted=True, digital_marker=None)})"
      ]
     },
     "execution_count": 36,
     "metadata": {},
     "output_type": "execute_result"
    }
   ],
   "source": [
    "machine.qubits[\"q0\"]"
   ]
  },
  {
   "cell_type": "code",
   "execution_count": 37,
   "metadata": {},
   "outputs": [],
   "source": [
    "machine.save()"
   ]
  },
  {
   "cell_type": "code",
   "execution_count": 38,
   "metadata": {},
   "outputs": [],
   "source": [
    "machine_loaded = QuAMSCQ1.load(machine.information.state_path)"
   ]
  },
  {
   "cell_type": "code",
   "execution_count": 39,
   "metadata": {},
   "outputs": [
    {
     "ename": "KeyError",
     "evalue": "'flattop_cosine'",
     "output_type": "error",
     "traceback": [
      "\u001b[1;31m---------------------------------------------------------------------------\u001b[0m",
      "\u001b[1;31mKeyError\u001b[0m                                  Traceback (most recent call last)",
      "Cell \u001b[1;32mIn[39], line 1\u001b[0m\n\u001b[1;32m----> 1\u001b[0m \u001b[43mmachine_loaded\u001b[49m\u001b[38;5;241;43m.\u001b[39;49m\u001b[43mqubits\u001b[49m\u001b[43m[\u001b[49m\u001b[38;5;124;43m\"\u001b[39;49m\u001b[38;5;124;43mq0\u001b[39;49m\u001b[38;5;124;43m\"\u001b[39;49m\u001b[43m]\u001b[49m\u001b[38;5;241;43m.\u001b[39;49m\u001b[43mpulse_sets\u001b[49m\u001b[43m[\u001b[49m\u001b[38;5;124;43m\"\u001b[39;49m\u001b[38;5;124;43mflattop_cosine\u001b[39;49m\u001b[38;5;124;43m\"\u001b[39;49m\u001b[43m]\u001b[49m\u001b[38;5;241m.\u001b[39mgates\n",
      "File \u001b[1;32mc:\\Users\\drn455\\AppData\\Local\\anaconda3\\envs\\opx_control\\Lib\\site-packages\\quam\\core\\quam_classes.py:744\u001b[0m, in \u001b[0;36mQuamDict.__getitem__\u001b[1;34m(self, i)\u001b[0m\n\u001b[0;32m    743\u001b[0m \u001b[38;5;28;01mdef\u001b[39;00m \u001b[38;5;21m__getitem__\u001b[39m(\u001b[38;5;28mself\u001b[39m, i):\n\u001b[1;32m--> 744\u001b[0m     elem \u001b[38;5;241m=\u001b[39m \u001b[38;5;28;43msuper\u001b[39;49m\u001b[43m(\u001b[49m\u001b[43m)\u001b[49m\u001b[38;5;241;43m.\u001b[39;49m\u001b[38;5;21;43m__getitem__\u001b[39;49m\u001b[43m(\u001b[49m\u001b[43mi\u001b[49m\u001b[43m)\u001b[49m\n\u001b[0;32m    745\u001b[0m     \u001b[38;5;28;01mif\u001b[39;00m string_reference\u001b[38;5;241m.\u001b[39mis_reference(elem):\n\u001b[0;32m    746\u001b[0m         \u001b[38;5;28;01mtry\u001b[39;00m:\n",
      "File \u001b[1;32mc:\\Users\\drn455\\AppData\\Local\\anaconda3\\envs\\opx_control\\Lib\\collections\\__init__.py:1126\u001b[0m, in \u001b[0;36mUserDict.__getitem__\u001b[1;34m(self, key)\u001b[0m\n\u001b[0;32m   1124\u001b[0m \u001b[38;5;28;01mif\u001b[39;00m \u001b[38;5;28mhasattr\u001b[39m(\u001b[38;5;28mself\u001b[39m\u001b[38;5;241m.\u001b[39m\u001b[38;5;18m__class__\u001b[39m, \u001b[38;5;124m\"\u001b[39m\u001b[38;5;124m__missing__\u001b[39m\u001b[38;5;124m\"\u001b[39m):\n\u001b[0;32m   1125\u001b[0m     \u001b[38;5;28;01mreturn\u001b[39;00m \u001b[38;5;28mself\u001b[39m\u001b[38;5;241m.\u001b[39m\u001b[38;5;18m__class__\u001b[39m\u001b[38;5;241m.\u001b[39m\u001b[38;5;21m__missing__\u001b[39m(\u001b[38;5;28mself\u001b[39m, key)\n\u001b[1;32m-> 1126\u001b[0m \u001b[38;5;28;01mraise\u001b[39;00m \u001b[38;5;167;01mKeyError\u001b[39;00m(key)\n",
      "\u001b[1;31mKeyError\u001b[0m: 'flattop_cosine'"
     ]
    }
   ],
   "source": [
    "machine_loaded.qubits[\"q0\"].pulse_sets[\"flattop_cosine\"].gates"
   ]
  },
  {
   "cell_type": "code",
   "execution_count": null,
   "metadata": {},
   "outputs": [],
   "source": [
    "import os"
   ]
  },
  {
   "cell_type": "code",
   "execution_count": null,
   "metadata": {},
   "outputs": [
    {
     "data": {
      "text/plain": [
       "True"
      ]
     },
     "execution_count": 18,
     "metadata": {},
     "output_type": "execute_result"
    }
   ],
   "source": [
    "os.path.exists(machine_loaded.information.data_path)"
   ]
  },
  {
   "cell_type": "code",
   "execution_count": null,
   "metadata": {},
   "outputs": [],
   "source": []
  }
 ],
 "metadata": {
  "kernelspec": {
   "display_name": "quam_test2",
   "language": "python",
   "name": "python3"
  },
  "language_info": {
   "codemirror_mode": {
    "name": "ipython",
    "version": 3
   },
   "file_extension": ".py",
   "mimetype": "text/x-python",
   "name": "python",
   "nbconvert_exporter": "python",
   "pygments_lexer": "ipython3",
   "version": "3.11.9"
  }
 },
 "nbformat": 4,
 "nbformat_minor": 2
}
