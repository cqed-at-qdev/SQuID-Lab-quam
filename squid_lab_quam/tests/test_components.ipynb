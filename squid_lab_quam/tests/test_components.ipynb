{
 "cells": [
  {
   "cell_type": "code",
   "execution_count": 2,
   "metadata": {},
   "outputs": [
    {
     "name": "stdout",
     "output_type": "stream",
     "text": [
      "C:\\Users\\jacob\\OneDrive\\Documents\\GitHub\\SQuID-Lab-quam\n"
     ]
    },
    {
     "name": "stderr",
     "output_type": "stream",
     "text": [
      "C:\\Users\\jacob\\AppData\\Roaming\\Python\\Python311\\site-packages\\IPython\\core\\magics\\osm.py:417: UserWarning: using dhist requires you to install the `pickleshare` library.\n",
      "  self.shell.db['dhist'] = compress_dhist(dhist)[-100:]\n"
     ]
    }
   ],
   "source": [
    "cd C:\\Users\\jacob\\OneDrive\\Documents\\GitHub\\SQuID-Lab-quam"
   ]
  },
  {
   "cell_type": "code",
   "execution_count": 4,
   "metadata": {},
   "outputs": [
    {
     "ename": "SyntaxError",
     "evalue": "invalid syntax (1786311159.py, line 3)",
     "output_type": "error",
     "traceback": [
      "\u001b[1;36m  Cell \u001b[1;32mIn[4], line 3\u001b[1;36m\u001b[0m\n\u001b[1;33m    cd C:\\Users\\jacob\\OneDrive\\Documents\\GitHub\\SQuID-Lab-quam\u001b[0m\n\u001b[1;37m       ^\u001b[0m\n\u001b[1;31mSyntaxError\u001b[0m\u001b[1;31m:\u001b[0m invalid syntax\n"
     ]
    }
   ],
   "source": [
    "# cd C:\\Users\\MESO 1\\Documents\\GitHub\\SQuID-Lab-quam"
   ]
  },
  {
   "cell_type": "code",
   "execution_count": 4,
   "metadata": {},
   "outputs": [],
   "source": [
    "from squid_lab_quam.components.roots import QuAMSCQ1\n",
    "\n",
    "machine = QuAMSCQ1()"
   ]
  },
  {
   "cell_type": "code",
   "execution_count": 5,
   "metadata": {},
   "outputs": [],
   "source": [
    "from squid_lab_quam.components.network import OPXNetwork, OctaveNetwork\n",
    "\n",
    "network = OPXNetwork(\n",
    "    host=\"10.209.67.168\",\n",
    "    cluster_name=\"Cluster_1\",\n",
    "    octave_networks={\n",
    "        \"octave1\": OctaveNetwork(\n",
    "            octave_host=\"10.209.67.174\", octave_port=80, controller=\"con1\"\n",
    "        )\n",
    "    },\n",
    ")\n",
    "\n",
    "machine.network = network"
   ]
  },
  {
   "cell_type": "code",
   "execution_count": 6,
   "metadata": {},
   "outputs": [
    {
     "name": "stdout",
     "output_type": "stream",
     "text": [
      "User name: \u001b[1mJacob Hastrup (drn455)\u001b[0m\n",
      "Device name: \u001b[1mChalmers/5q4_v0\u001b[0m\n",
      "Fridge name: \u001b[1mmeso\u001b[0m\n"
     ]
    }
   ],
   "source": [
    "from squid_lab_quam.components.information import Information\n",
    "\n",
    "information = Information(\n",
    "    user_name=\"Jacob Hastrup\",\n",
    "    user_ku_tag=\"drn455\",\n",
    "    device_name=\"Chalmers/5q4_v0\",\n",
    "    fridge_name=\"meso\",\n",
    "    data_path=r\"\\\\unicph.domain\\groupdir\\SCI-NBI-QDev\\SQuID Lab Data\\Devices\\Chalmers 5q4c v1.1\\OPX Data\",\n",
    "    state_path=r\"C:\\Users\\MESO 1\\Documents\\GitHub\\SQuID-Lab-quam\\squid_lab_quam\\tests\",\n",
    ")\n",
    "\n",
    "machine.information = information\n",
    "\n",
    "information.print_info()"
   ]
  },
  {
   "cell_type": "code",
   "execution_count": 7,
   "metadata": {},
   "outputs": [],
   "source": [
    "from squid_lab_quam.components.wiring import (\n",
    "    OPXWiring,\n",
    "    OPXFeedLineWiring,\n",
    "    OPXIQChannelWiring,\n",
    ")\n",
    "\n",
    "wiring = OPXWiring(\n",
    "    drive_lines={\n",
    "        \"q0\": OPXIQChannelWiring(\n",
    "            port_I=(\"con1\", 0),\n",
    "            port_Q=(\"con1\", 0),\n",
    "        ),\n",
    "        \"q1\": OPXIQChannelWiring(\n",
    "            port_I=(\"con1\", 0),\n",
    "            port_Q=(\"con1\", 0),\n",
    "        ),\n",
    "        \"q2\": OPXIQChannelWiring(\n",
    "            port_I=(\"con1\", 0),\n",
    "            port_Q=(\"con1\", 0),\n",
    "        ),\n",
    "        \"q3\": OPXIQChannelWiring(\n",
    "            port_I=(\"con1\", 0),\n",
    "            port_Q=(\"con1\", 0),\n",
    "        ),\n",
    "        \"q4\": OPXIQChannelWiring(\n",
    "            port_I=(\"con1\", 0),\n",
    "            port_Q=(\"con1\", 0),\n",
    "        ),\n",
    "    },\n",
    "    feed_lines={\n",
    "        \"feedline\": OPXFeedLineWiring(\n",
    "            output_I=(\"con1\", 0),\n",
    "            output_Q=(\"con1\", 0),\n",
    "            input_I=(\"con1\", 0),\n",
    "            input_Q=(\"con1\", 0),\n",
    "        )\n",
    "    },\n",
    ")\n",
    "\n",
    "machine.wiring = wiring"
   ]
  },
  {
   "cell_type": "code",
   "execution_count": 8,
   "metadata": {},
   "outputs": [],
   "source": [
    "from squid_lab_quam.components.octave import OctaveSQuID\n",
    "\n",
    "octaves = {\n",
    "    \"octave1\": OctaveSQuID(\n",
    "        ip=network.octave_networks[\"octave1\"].get_reference(\"octave_host\"),\n",
    "        port=network.octave_networks[\"octave1\"].get_reference(\"octave_port\"),\n",
    "    )\n",
    "}\n",
    "\n",
    "machine.octaves = octaves"
   ]
  },
  {
   "cell_type": "code",
   "execution_count": 11,
   "metadata": {},
   "outputs": [],
   "source": [
    "from squid_lab_quam.components.qubits import Transmon\n",
    "from squid_lab_quam.components.octave import OctaveUpConverterSQuID, OctaveSQuID\n",
    "from quam.components.channels import IQChannel\n",
    "\n",
    "qubit_names = [\"q0\", \"q1\", \"q2\", \"q3\", \"q4\"]\n",
    "\n",
    "qubits = {}\n",
    "\n",
    "for idx, qubit in enumerate(qubit_names):\n",
    "    # Add driving frequency converter\n",
    "    drive_up_converter = OctaveUpConverterSQuID(\n",
    "    )\n",
    "    octaves[\"octave1\"].RF_outputs[idx + 2] = drive_up_converter\n",
    "\n",
    "\n",
    "    qubits[qubit] = Transmon(\n",
    "        xy=IQChannel(\n",
    "            opx_output_I=f\"#/wiring/drive_lines/{qubit}/port_I\",\n",
    "            opx_output_Q=f\"#/wiring/drive_lines/{qubit}/port_Q\",\n",
    "            frequency_converter_up=drive_up_converter.get_reference()\n",
    "        )\n",
    "    )\n",
    "\n",
    "machine.qubits = qubits"
   ]
  },
  {
   "cell_type": "code",
   "execution_count": null,
   "metadata": {},
   "outputs": [],
   "source": []
  }
 ],
 "metadata": {
  "kernelspec": {
   "display_name": "quam_test2",
   "language": "python",
   "name": "python3"
  },
  "language_info": {
   "codemirror_mode": {
    "name": "ipython",
    "version": 3
   },
   "file_extension": ".py",
   "mimetype": "text/x-python",
   "name": "python",
   "nbconvert_exporter": "python",
   "pygments_lexer": "ipython3",
   "version": "3.11.9"
  }
 },
 "nbformat": 4,
 "nbformat_minor": 2
}
