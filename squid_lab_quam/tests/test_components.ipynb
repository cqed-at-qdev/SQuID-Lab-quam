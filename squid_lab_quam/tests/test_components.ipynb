{
 "cells": [
  {
   "cell_type": "code",
   "execution_count": 1,
   "metadata": {},
   "outputs": [
    {
     "name": "stdout",
     "output_type": "stream",
     "text": [
      "C:\\Users\\drn455\\Documents\\GitHub\\SQuID-Lab-quam\n"
     ]
    }
   ],
   "source": [
    "cd \"C:\\Users\\drn455\\Documents\\GitHub\\SQuID-Lab-quam\""
   ]
  },
  {
   "cell_type": "code",
   "execution_count": 2,
   "metadata": {},
   "outputs": [],
   "source": [
    "# cd C:\\Users\\jacob\\OneDrive\\Documents\\GitHub\\SQuID-Lab-quam"
   ]
  },
  {
   "cell_type": "code",
   "execution_count": 3,
   "metadata": {},
   "outputs": [],
   "source": [
    "# cd C:\\Users\\MESO 1\\Documents\\GitHub\\SQuID-Lab-quam"
   ]
  },
  {
   "cell_type": "code",
   "execution_count": 4,
   "metadata": {},
   "outputs": [
    {
     "name": "stdout",
     "output_type": "stream",
     "text": [
      "2024-07-05 15:19:34,161 - qm - INFO     - Starting session: dd5777d0-1c73-4886-b23b-ddfe0c7e21c4\n"
     ]
    }
   ],
   "source": [
    "from squid_lab_quam.components.roots import QuAMSCQ1\n",
    "\n",
    "machine = QuAMSCQ1()"
   ]
  },
  {
   "cell_type": "markdown",
   "metadata": {},
   "source": [
    "## Add information"
   ]
  },
  {
   "cell_type": "code",
   "execution_count": 5,
   "metadata": {},
   "outputs": [
    {
     "name": "stdout",
     "output_type": "stream",
     "text": [
      "User name: \u001b[1mJacob Hastrup (drn455)\u001b[0m\n",
      "Device name: \u001b[1mChalmers/5q4c_v0\u001b[0m\n",
      "Fridge name: \u001b[1mmeso\u001b[0m\n"
     ]
    }
   ],
   "source": [
    "from squid_lab_quam.components.information import Information\n",
    "\n",
    "information = Information(\n",
    "    user_name=\"Jacob Hastrup\",\n",
    "    user_ku_tag=\"drn455\",\n",
    "    device_name=\"Chalmers/5q4c_v0\",\n",
    "    fridge_name=\"meso\",\n",
    "    # state_path=r\"C:\\Users\\MESO 1\\Documents\\GitHub\\SQuID-Lab-quam\\squid_lab_quam\\tests\",\n",
    "    # state_path=r\"C:\\Users\\jacob\\OneDrive\\Documents\\GitHub\\SQuID-Lab-quam\\squid_lab_quam\\tests\\state\",\n",
    "    state_path=\"C:/Users/drn455/Documents/GitHub/SQuID-Lab-quam/squid_lab_quam/tests/state\",\n",
    ")\n",
    "\n",
    "\n",
    "machine.information = information\n",
    "\n",
    "information.print_info()"
   ]
  },
  {
   "cell_type": "markdown",
   "metadata": {},
   "source": [
    "## Add network"
   ]
  },
  {
   "cell_type": "code",
   "execution_count": 6,
   "metadata": {},
   "outputs": [],
   "source": [
    "from squid_lab_quam.components.network import OPXNetwork, OctaveNetwork\n",
    "\n",
    "network_meso = OPXNetwork(\n",
    "    host=\"10.209.67.168\",\n",
    "    cluster_name=\"Cluster_1\",\n",
    "    octave_networks={\n",
    "        \"octave1\": OctaveNetwork(\n",
    "            octave_host=\"10.209.67.174\", octave_port=80, controller=\"con1\"\n",
    "        )\n",
    "    },\n",
    ")\n",
    "\n",
    "network_t5 = OPXNetwork(\n",
    "        host= \"10.209.96.1\",\n",
    "        cluster_name= \"Cluster_1\",\n",
    "        octave_networks ={\n",
    "            \"octave1\": OctaveNetwork(\n",
    "                octave_host=   \"10.209.96.11\",\n",
    "                octave_port= 80,\n",
    "                controller= \"con1\"\n",
    "            )\n",
    "        }\n",
    ")\n",
    "\n",
    "machine.network = network_t5"
   ]
  },
  {
   "cell_type": "markdown",
   "metadata": {},
   "source": [
    "## Add wiring"
   ]
  },
  {
   "cell_type": "code",
   "execution_count": 7,
   "metadata": {},
   "outputs": [],
   "source": [
    "from squid_lab_quam.components.wiring import (\n",
    "    OPXWiring,\n",
    "    OPXFeedLineWiring,\n",
    "    OPXIQChannelWiring,\n",
    ")\n",
    "\n",
    "wiring = OPXWiring(\n",
    "    drive_lines={\n",
    "        \"q0\": OPXIQChannelWiring(\n",
    "            port_I=(\"con1\", 3),\n",
    "            port_Q=(\"con1\", 4),\n",
    "        ),\n",
    "        \"q1\": OPXIQChannelWiring(\n",
    "            port_I=(\"con1\", 5),\n",
    "            port_Q=(\"con1\", 6),\n",
    "        ),\n",
    "        \"q2\": OPXIQChannelWiring(\n",
    "            port_I=(\"con1\", 7),\n",
    "            port_Q=(\"con1\", 8),\n",
    "        ),\n",
    "        \"q3\": OPXIQChannelWiring(\n",
    "            port_I=(\"con1\", 9),\n",
    "            port_Q=(\"con1\", 10),\n",
    "        ),\n",
    "        \"q4\": OPXIQChannelWiring(\n",
    "            port_I=(\"con1\", 9),\n",
    "            port_Q=(\"con1\", 10),\n",
    "        ),\n",
    "    },\n",
    "    feed_lines={\n",
    "        \"feedline\": OPXFeedLineWiring(\n",
    "            output_I=(\"con1\", 1),\n",
    "            output_Q=(\"con1\", 2),\n",
    "            input_I=(\"con1\", 1),\n",
    "            input_Q=(\"con1\", 2),\n",
    "        )\n",
    "    },\n",
    ")\n",
    "\n",
    "machine.wiring = wiring"
   ]
  },
  {
   "cell_type": "markdown",
   "metadata": {},
   "source": [
    "## Add octaves"
   ]
  },
  {
   "cell_type": "code",
   "execution_count": 8,
   "metadata": {},
   "outputs": [],
   "source": [
    "from squid_lab_quam.components.octave import OctaveSQuID\n",
    "\n",
    "octaves = {\n",
    "    \"octave1\": OctaveSQuID(\n",
    "        ip=machine.network.octave_networks[\"octave1\"].get_reference(\"octave_host\"),\n",
    "        port=machine.network.octave_networks[\"octave1\"].get_reference(\"octave_port\"),\n",
    "    )\n",
    "}\n",
    "machine.octaves = octaves"
   ]
  },
  {
   "cell_type": "markdown",
   "metadata": {},
   "source": [
    "## Add readout frequency converters"
   ]
  },
  {
   "cell_type": "code",
   "execution_count": 9,
   "metadata": {},
   "outputs": [],
   "source": [
    "from squid_lab_quam.components.octave import (\n",
    "    OctaveUpConverterSQuID,\n",
    "    OctaveDownConverterSQuID,\n",
    ")\n",
    "\n",
    "readout_up_converter = OctaveUpConverterSQuID(LO_frequency=5e9)\n",
    "octaves[\"octave1\"].RF_outputs[1] = readout_up_converter\n",
    "\n",
    "readout_down_converter = OctaveDownConverterSQuID(\n",
    "    LO_frequency=readout_up_converter.get_reference(\"LO_frequency\"),\n",
    ")\n",
    "octaves[\"octave1\"].RF_inputs[1] = readout_down_converter"
   ]
  },
  {
   "cell_type": "markdown",
   "metadata": {},
   "source": [
    "## Add qubits"
   ]
  },
  {
   "cell_type": "code",
   "execution_count": 10,
   "metadata": {},
   "outputs": [],
   "source": [
    "from squid_lab_quam.components.qubits import Transmon\n",
    "from squid_lab_quam.components.resonators import ReadoutResonator\n",
    "from quam.components.channels import IQChannel, InOutIQChannel\n",
    "from squid_lab_quam.components.pulse_sets import PulseSetDragGaussian, PulseSetFlattopCosine\n",
    "from quam.components.pulses import SquareReadoutPulse\n",
    "\n",
    "qubit_names = [\"q0\", \"q1\", \"q2\", \"q3\"]\n",
    "\n",
    "machine.shared_qubit_parameters = {\n",
    "    \"drag_gaussian_pulse_parameters\": {\"length\": 40, \"sigma\": 7, \"subtracted\": True},\n",
    "}\n",
    "\n",
    "for idx, qubit_name in enumerate(qubit_names):\n",
    "    # Add driving frequency converter\n",
    "    drive_up_converter = OctaveUpConverterSQuID(LO_frequency=5.5e9)\n",
    "    octaves[\"octave1\"].RF_outputs[idx + 2] = drive_up_converter\n",
    "\n",
    "    # Add qubit\n",
    "    qubit = Transmon(\n",
    "        xy=IQChannel(\n",
    "            opx_output_I=f\"#/wiring/drive_lines/{qubit_name}/port_I\",\n",
    "            opx_output_Q=f\"#/wiring/drive_lines/{qubit_name}/port_Q\",\n",
    "            frequency_converter_up=drive_up_converter.get_reference(),\n",
    "        ),\n",
    "        resonator=ReadoutResonator(\n",
    "            channel=InOutIQChannel(\n",
    "                opx_input_I=f\"#/wiring/feed_lines/feedline/input_I\",\n",
    "                opx_input_Q=f\"#/wiring/feed_lines/feedline/input_Q\",\n",
    "                opx_output_I=f\"#/wiring/feed_lines/feedline/output_I\",\n",
    "                opx_output_Q=f\"#/wiring/feed_lines/feedline/output_Q\",\n",
    "                frequency_converter_up=readout_up_converter.get_reference(),\n",
    "                frequency_converter_down=readout_down_converter.get_reference(),\n",
    "            )\n",
    "        ),\n",
    "        transition_frequencies=[6, 5],\n",
    "    )\n",
    "    qubit.pulse_sets = {\n",
    "        \"drag_gaussian\": PulseSetDragGaussian(\n",
    "            amplitude_180=0.5,\n",
    "            amplitude_90=0.25,\n",
    "            sigma=\"#/shared_qubit_parameters/drag_gaussian_pulse_parameters/sigma\",\n",
    "            length=\"#/shared_qubit_parameters/drag_gaussian_pulse_parameters/length\",\n",
    "            subtracted=\"#/shared_qubit_parameters/drag_gaussian_pulse_parameters/subtracted\",\n",
    "            anharmonicity=\"#../../anharmonicity\",\n",
    "        ),\n",
    "        \"flattop_cosine\": PulseSetFlattopCosine(\n",
    "            amplitude=0.1,\n",
    "            rise_fall_time=16,\n",
    "        )\n",
    "    }\n",
    "    \n",
    "    machine.qubits[qubit_name] = qubit\n",
    "    qubit.pulse_sets[\"drag_gaussian\"].add_drive_pulses()\n",
    "    qubit.pulse_sets[\"flattop_cosine\"].add_drive_pulses()\n",
    "\n",
    "    qubit.resonator.channel.operations[\"readout\"] = SquareReadoutPulse(\n",
    "        length=1000, amplitude=0.1, threshold=0.0, digital_marker=\"ON\"\n",
    "    )"
   ]
  },
  {
   "cell_type": "code",
   "execution_count": null,
   "metadata": {},
   "outputs": [],
   "source": []
  }
 ],
 "metadata": {
  "kernelspec": {
   "display_name": "quam_test2",
   "language": "python",
   "name": "python3"
  },
  "language_info": {
   "codemirror_mode": {
    "name": "ipython",
    "version": 3
   },
   "file_extension": ".py",
   "mimetype": "text/x-python",
   "name": "python",
   "nbconvert_exporter": "python",
   "pygments_lexer": "ipython3",
   "version": "3.11.9"
  }
 },
 "nbformat": 4,
 "nbformat_minor": 2
}
